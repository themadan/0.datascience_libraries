{
  "nbformat": 4,
  "nbformat_minor": 0,
  "metadata": {
    "colab": {
      "name": "Untitled1.ipynb",
      "provenance": []
    },
    "kernelspec": {
      "name": "python3",
      "display_name": "Python 3"
    }
  },
  "cells": [
    {
      "cell_type": "markdown",
      "metadata": {
        "id": "3PFOl9l0zR1X",
        "colab_type": "text"
      },
      "source": [
        "# **Tensorflow**\n",
        "# key : tf.modulename.functionanae(parameters)\n",
        "# key :  tensor <=>anydata  (yasari any data lai tensor(matrix) ra any tensor(matrix) lai data ma convert garxa  \n",
        "[tensofflow for python ](https://www.tensorflow.org/)\n",
        "\n",
        "# **STEPS** (TensorFlow ecosystem) [read step by step form tensorflow ecosystem](https://www.tensorflow.org/learn)\n",
        "#C=create input piplines/Load & preprocess data\n",
        "#R=Read Data\n",
        "#U=update parameter /Build, train & reuse models\n",
        "#D=Deploy model"
      ]
    },
    {
      "cell_type": "code",
      "metadata": {
        "id": "XE-St3P0wfFS",
        "colab_type": "code",
        "colab": {}
      },
      "source": [
        ""
      ],
      "execution_count": 0,
      "outputs": []
    }
  ]
}