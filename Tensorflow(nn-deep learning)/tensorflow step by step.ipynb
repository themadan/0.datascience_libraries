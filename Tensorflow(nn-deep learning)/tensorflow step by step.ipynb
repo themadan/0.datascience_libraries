{
  "nbformat": 4,
  "nbformat_minor": 0,
  "metadata": {
    "colab": {
      "name": "Untitled1.ipynb",
      "provenance": []
    },
    "kernelspec": {
      "name": "python3",
      "display_name": "Python 3"
    }
  },
  "cells": [
    {
      "cell_type": "markdown",
      "metadata": {
        "id": "3PFOl9l0zR1X",
        "colab_type": "text"
      },
      "source": [
        "# **Tensorflow**\n",
        "# key : tf.modulename.functionanae(parameters)\n",
        "# key :  tensor <=>anydata  (yasari any data lai tensor(matrix) ra any tensor(matrix) lai data ma convert garxa  \n",
        "[tensofflow for python ](https://www.tensorflow.org/)\n",
        "\n",
        "# **STEPS** (TensorFlow ecosystem) [read step by step form tensorflow ecosystem](https://www.tensorflow.org/learn)\n",
        "#C=create input piplines/Load & preprocess data\n",
        "#R=Read Data\n",
        "#U=update parameter /Build, train & reuse models\n",
        "#D=Deploy model"
      ]
    },
    {
      "cell_type": "markdown",
      "metadata": {
        "id": "rGa3f8ab0V9V",
        "colab_type": "text"
      },
      "source": [
        "# STEP 1:: C=Create input pipline/load & preprocess data\n",
        "\n",
        "# A. **[tf.data](https://www.tensorflow.org/api_docs/python/tf/data)**  api enables you to build complex input pipline from single reusable pices\n",
        "# B.**[tf.data.Dataset](https://www.tensorflow.org/api_docs/python/tf/data/Dataset)**  abstraction represents a sequence of elements ,in which each element consists of one or more components .eg image pipline\n",
        " # i. There is two distinct ways to create Dataset .\n",
        " # * A data source construct a Dataset from data stored in memory or in one or more files.\n",
        " # * A data transformation constructs a datasets a dataset from one or more tf.data.Dataset"
      ]
    },
    {
      "cell_type": "code",
      "metadata": {
        "id": "XE-St3P0wfFS",
        "colab_type": "code",
        "colab": {}
      },
      "source": [
        "import tensorflow as tf\n",
        "from __future__ import  absolute_import,division,print_function,unicode_literals"
      ],
      "execution_count": 0,
      "outputs": []
    },
    {
      "cell_type": "code",
      "metadata": {
        "id": "qNYt_SP60DlL",
        "colab_type": "code",
        "colab": {
          "base_uri": "https://localhost:8080/",
          "height": 107
        },
        "outputId": "6f8e54d2-9cb9-4f9f-88d5-5869d7cb7c03"
      },
      "source": [
        "try :\n",
        "  !pip install -q tf-nightly\n",
        "except Exception:\n",
        "    pass \n"
      ],
      "execution_count": 5,
      "outputs": [
        {
          "output_type": "stream",
          "text": [
            "\u001b[K     |████████████████████████████████| 511.7MB 33kB/s \n",
            "\u001b[K     |████████████████████████████████| 3.9MB 48.6MB/s \n",
            "\u001b[K     |████████████████████████████████| 2.9MB 50.9MB/s \n",
            "\u001b[K     |████████████████████████████████| 460kB 57.8MB/s \n",
            "\u001b[31mERROR: tensorflow 2.0.0 has requirement gast==0.2.2, but you'll have gast 0.3.3 which is incompatible.\u001b[0m\n",
            "\u001b[?25h"
          ],
          "name": "stdout"
        }
      ]
    },
    {
      "cell_type": "code",
      "metadata": {
        "id": "De1Z8GSD25hC",
        "colab_type": "code",
        "colab": {
          "base_uri": "https://localhost:8080/",
          "height": 35
        },
        "outputId": "eb1d4b6b-b5d9-43a1-bbc9-20dc57f801ad"
      },
      "source": [
        "print(tf.__version__)"
      ],
      "execution_count": 6,
      "outputs": [
        {
          "output_type": "stream",
          "text": [
            "2.0.0\n"
          ],
          "name": "stdout"
        }
      ]
    },
    {
      "cell_type": "code",
      "metadata": {
        "id": "a8Jt_x7I3W0w",
        "colab_type": "code",
        "colab": {}
      },
      "source": [
        "import pathlib\n",
        "import matplotlib.pyplot as plt\n",
        "import pandas as pd \n",
        "import numpy as np\n",
        "np.set_printoptions(precision=4)"
      ],
      "execution_count": 0,
      "outputs": []
    },
    {
      "cell_type": "markdown",
      "metadata": {
        "id": "yZPkIZez44TF",
        "colab_type": "text"
      },
      "source": [
        "# To create an input pipeline ,you must start with source .\n",
        "# * to construct a Dataset from data in memory ,you can use \n",
        "# **tf.data.Dataset.from_tensors()** or **tf.data.Dataset.from_tensor_slices()**"
      ]
    },
    {
      "cell_type": "code",
      "metadata": {
        "id": "xROp8BaG4NYw",
        "colab_type": "code",
        "colab": {
          "base_uri": "https://localhost:8080/",
          "height": 35
        },
        "outputId": "3d58a543-3ed0-4ec0-af43-43750e89c5a4"
      },
      "source": [
        "dataset =tf.data.Dataset.from_tensor_slices([1,2,3,4])\n",
        "dataset"
      ],
      "execution_count": 8,
      "outputs": [
        {
          "output_type": "execute_result",
          "data": {
            "text/plain": [
              "<TensorSliceDataset shapes: (), types: tf.int32>"
            ]
          },
          "metadata": {
            "tags": []
          },
          "execution_count": 8
        }
      ]
    },
    {
      "cell_type": "code",
      "metadata": {
        "id": "BGIcD5kw6rmo",
        "colab_type": "code",
        "colab": {
          "base_uri": "https://localhost:8080/",
          "height": 89
        },
        "outputId": "4b66cc52-6c8a-4ad2-db8b-efa069527c59"
      },
      "source": [
        "for i in dataset:\n",
        "  print(i.numpy())"
      ],
      "execution_count": 16,
      "outputs": [
        {
          "output_type": "stream",
          "text": [
            "1\n",
            "2\n",
            "3\n",
            "4\n"
          ],
          "name": "stdout"
        }
      ]
    },
    {
      "cell_type": "code",
      "metadata": {
        "id": "_J0nc1UT6yrr",
        "colab_type": "code",
        "colab": {
          "base_uri": "https://localhost:8080/",
          "height": 35
        },
        "outputId": "432e88e4-d944-4f57-8b08-15174e792eb7"
      },
      "source": [
        "it=iter(dataset) # iterator le tensor as a  input linxa and auta auta gardai element denxa.\n",
        "print(next(it).numpy())"
      ],
      "execution_count": 19,
      "outputs": [
        {
          "output_type": "stream",
          "text": [
            "1\n"
          ],
          "name": "stdout"
        }
      ]
    },
    {
      "cell_type": "code",
      "metadata": {
        "id": "IlRheTvF7N0u",
        "colab_type": "code",
        "colab": {
          "base_uri": "https://localhost:8080/",
          "height": 35
        },
        "outputId": "ded86cfc-1b1e-48f5-86eb-dc857746181c"
      },
      "source": [
        "print(dataset.reduce(0,lambda state,value:state + value).numpy()) #reduce the all elements to produce a single result."
      ],
      "execution_count": 22,
      "outputs": [
        {
          "output_type": "stream",
          "text": [
            "10\n"
          ],
          "name": "stdout"
        }
      ]
    },
    {
      "cell_type": "markdown",
      "metadata": {
        "id": "1m5ha_NZ9Uw1",
        "colab_type": "text"
      },
      "source": [
        "# Dataset Structure\n",
        "# * **tf.TypeSpace** ::kun type ko ho tensor Tensor,SparseTensor,RaggedTensor,TensorArray or Dataset   Dinxa\n",
        "# * **Dataset.element_spec** ::tensor ko dataset ko type of each element component denaxa \n",
        "# **note :** shape(n,)  n vanyasi dimension janauxa  x,y =2 dimension..\n",
        " # so yaha n le no of column  which represent the  dimension."
      ]
    },
    {
      "cell_type": "code",
      "metadata": {
        "id": "9adqdjJqA5lH",
        "colab_type": "code",
        "colab": {
          "base_uri": "https://localhost:8080/",
          "height": 35
        },
        "outputId": "3325c030-cb9d-4956-87a5-17eb6677190c"
      },
      "source": [
        "tf.TypeSpec\n"
      ],
      "execution_count": 38,
      "outputs": [
        {
          "output_type": "execute_result",
          "data": {
            "text/plain": [
              "tensorflow.python.framework.type_spec.TypeSpec"
            ]
          },
          "metadata": {
            "tags": []
          },
          "execution_count": 38
        }
      ]
    },
    {
      "cell_type": "code",
      "metadata": {
        "id": "wE7fOAKR8lx2",
        "colab_type": "code",
        "colab": {
          "base_uri": "https://localhost:8080/",
          "height": 35
        },
        "outputId": "9df3fcef-a5e6-4cfe-89a0-1a14cede9e6d"
      },
      "source": [
        "dataset=tf.data.Dataset.from_tensor_slices(tf.random.uniform([4,10]))\n",
        "# for i in dataset:\n",
        "#    print(i.numpy())\n",
        "dataset.element_spec # NOTE::\n",
        "#print(dataset)"
      ],
      "execution_count": 50,
      "outputs": [
        {
          "output_type": "execute_result",
          "data": {
            "text/plain": [
              "TensorSpec(shape=(10,), dtype=tf.float32, name=None)"
            ]
          },
          "metadata": {
            "tags": []
          },
          "execution_count": 50
        }
      ]
    },
    {
      "cell_type": "code",
      "metadata": {
        "id": "YEz0R7eh-pc8",
        "colab_type": "code",
        "colab": {
          "base_uri": "https://localhost:8080/",
          "height": 53
        },
        "outputId": "fdf49486-78b7-4143-de07-8b50069d3727"
      },
      "source": [
        "dataset2 = tf.data.Dataset.from_tensor_slices(\n",
        "   (tf.random.uniform([4]),\n",
        "    tf.random.uniform([4, 100], maxval=100, dtype=tf.int32)))\n",
        "\n",
        "dataset2.element_spec\n"
      ],
      "execution_count": 58,
      "outputs": [
        {
          "output_type": "execute_result",
          "data": {
            "text/plain": [
              "(TensorSpec(shape=(), dtype=tf.float32, name=None),\n",
              " TensorSpec(shape=(100,), dtype=tf.int32, name=None))"
            ]
          },
          "metadata": {
            "tags": []
          },
          "execution_count": 58
        }
      ]
    },
    {
      "cell_type": "code",
      "metadata": {
        "id": "HXJQFcbS_vZV",
        "colab_type": "code",
        "colab": {
          "base_uri": "https://localhost:8080/",
          "height": 71
        },
        "outputId": "85edabec-6f26-471c-cd35-83ffbbd3d10f"
      },
      "source": [
        "dataset3=tf.data.Dataset.zip((dataset,dataset2))\n",
        "dataset3.element_spec"
      ],
      "execution_count": 53,
      "outputs": [
        {
          "output_type": "execute_result",
          "data": {
            "text/plain": [
              "(TensorSpec(shape=(10,), dtype=tf.float32, name=None),\n",
              " (TensorSpec(shape=(), dtype=tf.float32, name=None),\n",
              "  TensorSpec(shape=(900,), dtype=tf.int32, name=None)))"
            ]
          },
          "metadata": {
            "tags": []
          },
          "execution_count": 53
        }
      ]
    },
    {
      "cell_type": "code",
      "metadata": {
        "id": "zUissHLuAw0S",
        "colab_type": "code",
        "colab": {
          "base_uri": "https://localhost:8080/",
          "height": 35
        },
        "outputId": "a1ab714d-dc2a-42ee-bf3b-54cab4076633"
      },
      "source": [
        "# dataset containing a sparse tensor \n",
        "dataset4=tf.data.Dataset.from_tensors(tf.SparseTensor(indices=[[0,0],[1,2]],values=[1,2],dense_shape=[3,4]))\n",
        "dataset4.element_spec"
      ],
      "execution_count": 56,
      "outputs": [
        {
          "output_type": "execute_result",
          "data": {
            "text/plain": [
              "SparseTensorSpec(TensorShape([3, 4]), tf.int32)"
            ]
          },
          "metadata": {
            "tags": []
          },
          "execution_count": 56
        }
      ]
    },
    {
      "cell_type": "code",
      "metadata": {
        "id": "JfqI8GNDMrlh",
        "colab_type": "code",
        "colab": {
          "base_uri": "https://localhost:8080/",
          "height": 35
        },
        "outputId": "7b0383e4-9932-42d0-dd79-b5f8e9ccb9c1"
      },
      "source": [
        "# use value_type to see the type of value represented by element spec\n",
        "dataset4.element_spec.value_type"
      ],
      "execution_count": 57,
      "outputs": [
        {
          "output_type": "execute_result",
          "data": {
            "text/plain": [
              "tensorflow.python.framework.sparse_tensor.SparseTensor"
            ]
          },
          "metadata": {
            "tags": []
          },
          "execution_count": 57
        }
      ]
    },
    {
      "cell_type": "code",
      "metadata": {
        "id": "3N2zFKZMNGOi",
        "colab_type": "code",
        "colab": {
          "base_uri": "https://localhost:8080/",
          "height": 35
        },
        "outputId": "83d9f75f-d22f-471e-b387-b8ccab5cfc09"
      },
      "source": [
        "dataset5=tf.data.Dataset.from_tensor_slices(tf.random.uniform([4,10],maxval=10,dtype=tf.int32))\n",
        "dataset5"
      ],
      "execution_count": 63,
      "outputs": [
        {
          "output_type": "execute_result",
          "data": {
            "text/plain": [
              "<TensorSliceDataset shapes: (10,), types: tf.int32>"
            ]
          },
          "metadata": {
            "tags": []
          },
          "execution_count": 63
        }
      ]
    },
    {
      "cell_type": "code",
      "metadata": {
        "id": "-pJGp6LpVgC_",
        "colab_type": "code",
        "colab": {
          "base_uri": "https://localhost:8080/",
          "height": 89
        },
        "outputId": "67deb989-15f7-46c3-ed0c-46a529e21b3d"
      },
      "source": [
        "for z in dataset5:\n",
        "  print(z.numpy())"
      ],
      "execution_count": 65,
      "outputs": [
        {
          "output_type": "stream",
          "text": [
            "[4 7 2 1 8 6 8 0 8 2]\n",
            "[5 5 8 8 6 0 3 9 3 9]\n",
            "[4 0 3 5 8 3 0 4 9 8]\n",
            "[3 6 1 5 1 0 7 5 5 8]\n"
          ],
          "name": "stdout"
        }
      ]
    },
    {
      "cell_type": "code",
      "metadata": {
        "id": "QM1eHY-jV0Va",
        "colab_type": "code",
        "colab": {
          "base_uri": "https://localhost:8080/",
          "height": 35
        },
        "outputId": "e2a9207d-9a28-442f-c139-9b83df8e23df"
      },
      "source": [
        "dataset6 = tf.data.Dataset.from_tensor_slices(\n",
        "   (tf.random.uniform([4]),\n",
        "    tf.random.uniform([4, 100], maxval=100, dtype=tf.int32)))\n",
        "\n",
        "dataset6"
      ],
      "execution_count": 69,
      "outputs": [
        {
          "output_type": "execute_result",
          "data": {
            "text/plain": [
              "<TensorSliceDataset shapes: ((), (100,)), types: (tf.float32, tf.int32)>"
            ]
          },
          "metadata": {
            "tags": []
          },
          "execution_count": 69
        }
      ]
    },
    {
      "cell_type": "markdown",
      "metadata": {
        "id": "pTPowZDRXypW",
        "colab_type": "text"
      },
      "source": [
        "# Reading input data \n",
        "# * consuming numpy arrays"
      ]
    },
    {
      "cell_type": "code",
      "metadata": {
        "id": "Ytvctd0wW_Rb",
        "colab_type": "code",
        "colab": {
          "base_uri": "https://localhost:8080/",
          "height": 53
        },
        "outputId": "d91e07e6-f20c-4f74-8ac6-fb8e4221fc64"
      },
      "source": [
        "# LOAD FROM .npz file \n",
        "DATA_URL='https://storage.googleapis.com/tensorflow/tf-keras-datasets/mnist.npz'\n",
        "path=tf.keras.utils.get_file('mnist.npz',DATA_URL)\n",
        "with np.load(path) as data:\n",
        "  train_examples=data['x_train']\n",
        "  train_labels=data['y_train']\n",
        "  test_examples=data['x_test']\n",
        "  test_labels=data['y_test']"
      ],
      "execution_count": 71,
      "outputs": [
        {
          "output_type": "stream",
          "text": [
            "Downloading data from https://storage.googleapis.com/tensorflow/tf-keras-datasets/mnist.npz\n",
            "11493376/11490434 [==============================] - 0s 0us/step\n"
          ],
          "name": "stdout"
        }
      ]
    },
    {
      "cell_type": "markdown",
      "metadata": {
        "id": "pgR3YnyChZA6",
        "colab_type": "text"
      },
      "source": [
        "![iamge here](https://raw.githubusercontent.com/themadan/1.DataScience-libraries/master/Tensorflow(nn-deep%20learning)/images/ndarray%20and%20shape.png)"
      ]
    },
    {
      "cell_type": "code",
      "metadata": {
        "id": "ITQGNjpFYrsK",
        "colab_type": "code",
        "colab": {
          "base_uri": "https://localhost:8080/",
          "height": 107
        },
        "outputId": "007e3054-925c-41cc-86ac-ab7b064e5d37"
      },
      "source": [
        "train,test=tf.keras.datasets.fashion_mnist.load_data() # mnist data load garxa ani tuple ko rupma return garxa (x_train,y_train),(x_test,y_test) yasari return garxa.\n",
        "print(train[0].shape) #x_train   (60000=no of row=no of image,28=no of row ,28=no of column)\n",
        "print(train[1].shape)# y_train(labels)\n",
        "print(test[0].shape)# x_test\n",
        "print(test[1].shape)#y_test\n",
        "print(train[0][0].shape)"
      ],
      "execution_count": 95,
      "outputs": [
        {
          "output_type": "stream",
          "text": [
            "(60000, 28, 28)\n",
            "(60000,)\n",
            "(10000, 28, 28)\n",
            "(10000,)\n",
            "(28, 28)\n"
          ],
          "name": "stdout"
        }
      ]
    },
    {
      "cell_type": "code",
      "metadata": {
        "id": "uyPUGjB1Zowu",
        "colab_type": "code",
        "colab": {}
      },
      "source": [
        "images,labels=train\n",
        "images=images/255\n"
      ],
      "execution_count": 0,
      "outputs": []
    },
    {
      "cell_type": "code",
      "metadata": {
        "id": "dyNsAKbsZ1Tj",
        "colab_type": "code",
        "colab": {
          "base_uri": "https://localhost:8080/",
          "height": 35
        },
        "outputId": "091f9f30-c8a5-4f7c-bacc-f784a320ef69"
      },
      "source": [
        "dataset=tf.data.Dataset.from_tensor_slices((images,labels))\n",
        "dataset"
      ],
      "execution_count": 75,
      "outputs": [
        {
          "output_type": "execute_result",
          "data": {
            "text/plain": [
              "<TensorSliceDataset shapes: ((28, 28), ()), types: (tf.float64, tf.uint8)>"
            ]
          },
          "metadata": {
            "tags": []
          },
          "execution_count": 75
        }
      ]
    },
    {
      "cell_type": "code",
      "metadata": {
        "id": "iYYgBt1laIFG",
        "colab_type": "code",
        "colab": {
          "base_uri": "https://localhost:8080/",
          "height": 35
        },
        "outputId": "bf643d54-a2fc-40eb-d2b9-58b93c4d88f3"
      },
      "source": [
        "li=np.array([[[1,2,3],[4,5,6]]])\n",
        "print(li.shape)"
      ],
      "execution_count": 92,
      "outputs": [
        {
          "output_type": "stream",
          "text": [
            "(1, 2, 3)\n"
          ],
          "name": "stdout"
        }
      ]
    },
    {
      "cell_type": "code",
      "metadata": {
        "id": "f9kJECw8jjAY",
        "colab_type": "code",
        "colab": {}
      },
      "source": [
        ""
      ],
      "execution_count": 0,
      "outputs": []
    }
  ]
}