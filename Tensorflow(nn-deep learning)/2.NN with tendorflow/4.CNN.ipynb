{
  "nbformat": 4,
  "nbformat_minor": 0,
  "metadata": {
    "colab": {
      "name": "Untitled1.ipynb",
      "provenance": []
    },
    "kernelspec": {
      "name": "python3",
      "display_name": "Python 3"
    }
  },
  "cells": [
    {
      "cell_type": "markdown",
      "metadata": {
        "id": "8zku1vUo1OQn",
        "colab_type": "text"
      },
      "source": [
        "# Keras "
      ]
    },
    {
      "cell_type": "code",
      "metadata": {
        "id": "XE-St3P0wfFS",
        "colab_type": "code",
        "colab": {}
      },
      "source": [
        "#!pip install tensorflow==2.0.0\n",
        "import tensorflow as tf\n",
        "import matplotlib.pyplot as plt\n",
        "import numpy as np\n"
      ],
      "execution_count": 0,
      "outputs": []
    },
    {
      "cell_type": "code",
      "metadata": {
        "id": "169Eo--d1ZwK",
        "colab_type": "code",
        "colab": {}
      },
      "source": [
        "num_classes=10\n",
        "iterations=100\n",
        "learning_rate=0.001\n",
        "batch_size=128\n",
        "\n",
        "conv1_filters=32\n",
        "conv2_filters=64\n",
        "fc1_units=1024\n"
      ],
      "execution_count": 0,
      "outputs": []
    },
    {
      "cell_type": "markdown",
      "metadata": {
        "id": "kFoLt8ba-MRV",
        "colab_type": "text"
      },
      "source": [
        "# prepare mnist data"
      ]
    },
    {
      "cell_type": "code",
      "metadata": {
        "id": "TSwQHY7a20WR",
        "colab_type": "code",
        "colab": {}
      },
      "source": [
        "from tensorflow.keras.datasets import  mnist\n",
        "(x_train,y_train),(x_test,y_test)=mnist.load_data()"
      ],
      "execution_count": 0,
      "outputs": []
    },
    {
      "cell_type": "code",
      "metadata": {
        "id": "SP8DPEs-4sYP",
        "colab_type": "code",
        "colab": {}
      },
      "source": [
        "x_train,x_test=np.array(x_train,np.float32),np.array(x_test,np.float32)\n",
        "x_train,x_test=x_train/255.,x_test/255."
      ],
      "execution_count": 0,
      "outputs": []
    },
    {
      "cell_type": "markdown",
      "metadata": {
        "id": "9lL74SCJ-R4g",
        "colab_type": "text"
      },
      "source": [
        "# use tf.data to shuffle and batch data"
      ]
    },
    {
      "cell_type": "code",
      "metadata": {
        "id": "NkYf4_1Y-Bqa",
        "colab_type": "code",
        "colab": {}
      },
      "source": [
        "train_data=tf.data.Dataset.from_tensor_slices((x_train,y_train)) # x_train ra y_train lai suffal ta garxa tara corrosponding label sangai shuffle garxa"
      ],
      "execution_count": 0,
      "outputs": []
    },
    {
      "cell_type": "code",
      "metadata": {
        "id": "k_1cXltC-itU",
        "colab_type": "code",
        "colab": {}
      },
      "source": [
        "train_data=train_data.repeat().shuffle(5000).batch(batch_size).prefetch(1)\n"
      ],
      "execution_count": 0,
      "outputs": []
    },
    {
      "cell_type": "code",
      "metadata": {
        "id": "pkf0sXuL-4Xj",
        "colab_type": "code",
        "colab": {}
      },
      "source": [
        "def conv2d(x,w,b,strides=1):\n",
        "  x=tf.nn.conv2d(x,w,strides=[1,strides,strides,1],padding='SAME')\n",
        "  x=tf.nn.bias_add(x,b)\n",
        "  return tf.nn.relu(x)\n"
      ],
      "execution_count": 0,
      "outputs": []
    },
    {
      "cell_type": "code",
      "metadata": {
        "id": "gUrNP3iq_Qtr",
        "colab_type": "code",
        "colab": {}
      },
      "source": [
        "def maxpool2d(x,k=2):\n",
        "  return tf.nn.max_pool(x,ksize=[1,k,k,1],strides=[1,k,k,1],padding='SAME')\n",
        "  "
      ],
      "execution_count": 0,
      "outputs": []
    },
    {
      "cell_type": "code",
      "metadata": {
        "id": "Soe4KYu2AN8d",
        "colab_type": "code",
        "colab": {}
      },
      "source": [
        "random_normal=tf.initializers.RandomNormal()\n",
        "weights={\n",
        "    'c1':tf.Variable(random_normal([5,5,1,conv1_filters])),\n",
        "    'c2':tf.Variable(random_normal([5,5,conv1_filters,conv2_filters])),\n",
        "    'fc':tf.Variable(random_normal([7*7*64,fc1_units])),\n",
        "    'out':tf.Variable(random_normal([fc1_units,num_classes]))\n",
        "\n",
        "\n",
        "\n",
        "}"
      ],
      "execution_count": 0,
      "outputs": []
    },
    {
      "cell_type": "code",
      "metadata": {
        "id": "zd1BBp2IBMKx",
        "colab_type": "code",
        "colab": {}
      },
      "source": [
        "biases={\n",
        "    'bc1':tf.Variable(tf.zeros([conv1_filters])),\n",
        "    'bc2':tf.Variable(tf.zeros([conv2_filters])),\n",
        "    'bfc1':tf.Variable(tf.zeros([fc1_units])),\n",
        "    'bout':tf.Variable(tf.zeros([num_classes]))\n",
        "}"
      ],
      "execution_count": 0,
      "outputs": []
    },
    {
      "cell_type": "code",
      "metadata": {
        "id": "alZIQTufCMLl",
        "colab_type": "code",
        "colab": {}
      },
      "source": [
        "def conv_net(x):\n",
        "  x=tf.reshape(x,[-1,28,28,1])\n",
        "  conv1=conv2d(x,weights['c1'],biases['bc1'])\n",
        "  conv1=maxpool2d(conv1,k=2)\n",
        "  conv2=conv2d(conv1,weights['c2'],biases['bc2'])\n",
        "  conv2=maxpool2d(conv2,k=2)\n",
        "  fc1=tf.reshape(conv2,[-1,weights['fc'].get_shape().as_list()[0]])\n",
        "  fc1=tf.add(tf.matmul(fc1,weights['fc']),biases['bfc1'])\n",
        "  fc1=tf.nn.relu(fc1)\n",
        "  out=tf.add(tf.matmul(fc1,weights['out']),biases['bout'])\n",
        "  return tf.nn.softmax(out)\n",
        "  "
      ],
      "execution_count": 0,
      "outputs": []
    },
    {
      "cell_type": "code",
      "metadata": {
        "id": "qlGJ7UelFZWz",
        "colab_type": "code",
        "colab": {}
      },
      "source": [
        "def cross_entropy(y_pred,y_true):\n",
        "  y_true=tf.one_hot(y_true,depth=num_classes)\n",
        "  y_pred=tf.clip_by_value(y_pred,1e-9,1.)\n",
        "  return tf.reduce_mean(-tf.reduce_sum(y_true * tf.math.log(y_pred)))\n",
        "  "
      ],
      "execution_count": 0,
      "outputs": []
    },
    {
      "cell_type": "code",
      "metadata": {
        "id": "9YSSvVtUG__6",
        "colab_type": "code",
        "colab": {}
      },
      "source": [
        "def accuracy(y_pred,y_true):\n",
        "  correct_prediction=tf.equal(tf.argmax(y_pred,1),tf.cast(y_true,tf.int64))\n",
        "  return tf.reduce_mean(tf.cast(correct_prediction,tf.float32),axis=-1)"
      ],
      "execution_count": 0,
      "outputs": []
    },
    {
      "cell_type": "code",
      "metadata": {
        "id": "U33yRnxMiG76",
        "colab_type": "code",
        "colab": {}
      },
      "source": [
        "optimizer=tf.optimizers.Adam(learning_rate)"
      ],
      "execution_count": 0,
      "outputs": []
    },
    {
      "cell_type": "code",
      "metadata": {
        "id": "pj0jLmk_iQ5-",
        "colab_type": "code",
        "colab": {}
      },
      "source": [
        "trainable_weights=[]\n",
        "for i in weights:\n",
        "  trainable_weights.append(weights[i])\n",
        "for i in  biases:\n",
        "  trainable_weights.append(biases[i])"
      ],
      "execution_count": 0,
      "outputs": []
    },
    {
      "cell_type": "code",
      "metadata": {
        "id": "-cv22zKzi4-v",
        "colab_type": "code",
        "colab": {}
      },
      "source": [
        "def train(x,y,trainable_weights):\n",
        "  with tf.GradientTape() as g:\n",
        "    pred=conv_net(x)\n",
        "    loss=cross_entropy(pred,y)\n",
        "  gradients=g.gradient(loss,trainable_weights)\n",
        "  optimizer.apply_gradients(zip(gradients,trainable_weights))\n"
      ],
      "execution_count": 0,
      "outputs": []
    },
    {
      "cell_type": "code",
      "metadata": {
        "id": "N0IuVEMXwhsu",
        "colab_type": "code",
        "colab": {
          "base_uri": "https://localhost:8080/",
          "height": 55
        },
        "outputId": "11503244-3fa0-4dc6-ccc3-2a71a18721c6"
      },
      "source": [
        "print(train_data.take(iterations),i)"
      ],
      "execution_count": 65,
      "outputs": [
        {
          "output_type": "stream",
          "text": [
            "<TakeDataset shapes: ((None, 28, 28), (None,)), types: (tf.float32, tf.uint8)> bout\n"
          ],
          "name": "stdout"
        }
      ]
    },
    {
      "cell_type": "code",
      "metadata": {
        "id": "puoE781qjErm",
        "colab_type": "code",
        "outputId": "964bf3dc-c716-4393-a9c2-f378e7d6079a",
        "colab": {
          "base_uri": "https://localhost:8080/",
          "height": 197
        }
      },
      "source": [
        "for step,(batch_x,batch_y) in  enumerate(train_data.take(iterations),1):\n",
        "  train(batch_x,batch_y,trainable_weights)\n",
        "  if step%10==0:\n",
        "    pred=conv_net(batch_x)\n",
        "    loss=cross_entropy(pred,batch_y)\n",
        "    acc=accuracy(pred,batch_y)\n",
        "    print('step %i,loss:%f , accurcy: %f' %(step,loss,acc))"
      ],
      "execution_count": 66,
      "outputs": [
        {
          "output_type": "stream",
          "text": [
            "step 10,loss:293.559021 , accurcy: 0.148438\n",
            "step 20,loss:294.208740 , accurcy: 0.101562\n",
            "step 30,loss:295.743530 , accurcy: 0.062500\n",
            "step 40,loss:295.102661 , accurcy: 0.093750\n",
            "step 50,loss:294.194702 , accurcy: 0.140625\n",
            "step 60,loss:294.372742 , accurcy: 0.117188\n",
            "step 70,loss:294.971375 , accurcy: 0.109375\n",
            "step 80,loss:295.285156 , accurcy: 0.132812\n",
            "step 90,loss:294.089417 , accurcy: 0.093750\n",
            "step 100,loss:293.740723 , accurcy: 0.132812\n"
          ],
          "name": "stdout"
        }
      ]
    },
    {
      "cell_type": "code",
      "metadata": {
        "id": "2gxYDYUuk79e",
        "colab_type": "code",
        "colab": {}
      },
      "source": [
        ""
      ],
      "execution_count": 0,
      "outputs": []
    }
  ]
}