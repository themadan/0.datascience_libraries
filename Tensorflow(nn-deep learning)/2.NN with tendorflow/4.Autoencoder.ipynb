{
  "nbformat": 4,
  "nbformat_minor": 0,
  "metadata": {
    "kernelspec": {
      "display_name": "Python 3",
      "language": "python",
      "name": "python3"
    },
    "language_info": {
      "codemirror_mode": {
        "name": "ipython",
        "version": 3
      },
      "file_extension": ".py",
      "mimetype": "text/x-python",
      "name": "python",
      "nbconvert_exporter": "python",
      "pygments_lexer": "ipython3",
      "version": "3.7.4"
    },
    "colab": {
      "name": "numpy .ipynb",
      "provenance": []
    }
  },
  "cells": [
    {
      "cell_type": "markdown",
      "metadata": {
        "id": "vYVH9K1p42-X",
        "colab_type": "text"
      },
      "source": [
        "[Blog and code for Auto encoder (maile tal gareko yahi blog bata ho)](https://blog.keras.io/building-autoencoders-in-keras.html)"
      ]
    },
    {
      "cell_type": "markdown",
      "metadata": {
        "id": "lY-qjYLKm5KH",
        "colab_type": "text"
      },
      "source": [
        "# AUTO ENCODER ( targets are generated from the input data)\n",
        "programming way ma bujda last ma previous ko input le multiply garni.\n",
        "* Unsupervise machine  Learning similar to the pca.\n",
        "* it minimize the same objective function as pca.\n",
        "* It is a neural network.\n",
        "* The neural network's target output us its input.\n",
        "* Reconstruct the input \n",
        "* Label are input\n",
        "* Dimentionality reduction\n",
        "\n",
        "#  PCA VS AUTOENCODER \n",
        "* Auto encoder can learn non-linear transform unlike PCA.\n",
        "* An autoencoder doesn't have to learn dense layers. \n",
        "* More efficiency to learn several layers with an autoencoder.\n",
        "* It gives a representation as the output of each layer.\n",
        "* autoencoders can learn data projections that are more interesting than PCA or other basic techniques.\n",
        "\n",
        "# WHY AUTOENCODER\n",
        "* Data Denosing .\n",
        "* Dimentionality reduction for data visualization\n",
        "\n",
        "\n",
        "# WHAT IS AUTOENCODER \n",
        "* An autoencoder neural network is an unsupervise machine learning algorithm that applies backpropagation ,setting the target values to be equal to the inputs.\n"
      ]
    },
    {
      "cell_type": "markdown",
      "metadata": {
        "id": "Cddr8kKHqRSs",
        "colab_type": "text"
      },
      "source": [
        "# There are 4 hyperparameter that we need to set before training an autoencoder.\n",
        "\n",
        "* Code:The number of nodes in the middle layer.small size results in more compression.\n",
        "\n",
        "* Number of layer :encoder ra decoder ma vayako number of layer input ra output bahek.\n",
        "* Loss function:either mean squared error or binary crossentropy.\n",
        "if the input id the range of [0,1] then we typically use crossentropy ,otherwise we use the mean square error."
      ]
    },
    {
      "cell_type": "code",
      "metadata": {
        "id": "58HN5EGKmXRL",
        "colab_type": "code",
        "outputId": "1074c92b-7f46-46ed-8d28-4351dee427f7",
        "colab": {
          "base_uri": "https://localhost:8080/",
          "height": 35
        }
      },
      "source": [
        "#!pip install tensorflow==2.0.0\n",
        "import tensorflow as tf\n",
        "print(tf.__version__)\n",
        "from  tensorflow.keras.layers  import Input,Dense\n",
        "from tensorflow.keras.models import Model"
      ],
      "execution_count": 0,
      "outputs": [
        {
          "output_type": "stream",
          "text": [
            "2.0.0\n"
          ],
          "name": "stdout"
        }
      ]
    },
    {
      "cell_type": "code",
      "metadata": {
        "id": "odj1qNGpvPlC",
        "colab_type": "code",
        "colab": {}
      },
      "source": [
        "from keras.datasets import mnist\n",
        "import numpy as np\n"
      ],
      "execution_count": 0,
      "outputs": []
    },
    {
      "cell_type": "code",
      "metadata": {
        "id": "37OyOtDUvYQg",
        "colab_type": "code",
        "outputId": "f2345485-8985-4f7d-ada5-839cee4909f9",
        "colab": {
          "base_uri": "https://localhost:8080/",
          "height": 53
        }
      },
      "source": [
        "(x_train,_),(x_test,_)=mnist.load_data()\n",
        "x_train=x_train.astype('float32')/255\n",
        "x_test=x_test.astype('float32')/255\n",
        "x_train=x_train.reshape((len(x_train),np.prod(x_train.shape[1:]))) # flatten the input image 28*28 into 784 size.\n",
        "x_test=x_test.reshape((len(x_test),np.prod(x_test.shape[1:])))\n",
        "print (x_train.shape)\n",
        "print(x_test.shape)\n"
      ],
      "execution_count": 0,
      "outputs": [
        {
          "output_type": "stream",
          "text": [
            "(60000, 784)\n",
            "(10000, 784)\n"
          ],
          "name": "stdout"
        }
      ]
    },
    {
      "cell_type": "markdown",
      "metadata": {
        "id": "CfS1U4xQzDQt",
        "colab_type": "text"
      },
      "source": [
        "# single fully-connected neural layer as encoder and decoder."
      ]
    },
    {
      "cell_type": "code",
      "metadata": {
        "id": "5wVbXUaEmXRc",
        "colab_type": "code",
        "colab": {}
      },
      "source": [
        "input_size=784\n",
        "hidden_size=128\n",
        "encoding_dim=32 # this is the size of our encoded representation\n",
        "input_img=Input(shape=(input_size,))\n",
        "encoded=Dense(encoding_dim,activation='relu')(input_img)\n",
        "\n",
        "decoded=Dense(input_size,activation='sigmoid')(encoded)\n",
        "\n",
        "autoencoder=Model(input_img,decoded)\n",
        "autoencoder.compile(optimizer='adam',loss='binary_crossentropy')\n"
      ],
      "execution_count": 0,
      "outputs": []
    },
    {
      "cell_type": "markdown",
      "metadata": {
        "id": "3fCvxDgizaOa",
        "colab_type": "text"
      },
      "source": [
        "# Seperate encoder model"
      ]
    },
    {
      "cell_type": "markdown",
      "metadata": {
        "id": "EWxNIRj6zljH",
        "colab_type": "text"
      },
      "source": [
        "# model maps an input to its encoded representation\n",
        "* **encoder xuttai and decoder xuttai ni garna milxa**\n",
        "\n",
        "* **NOTE::tesko lagi model ma encoded part ko matrai pathuni** "
      ]
    },
    {
      "cell_type": "code",
      "metadata": {
        "id": "-eQ9xfcxzSeL",
        "colab_type": "code",
        "colab": {
          "base_uri": "https://localhost:8080/",
          "height": 413
        },
        "outputId": "2f191012-9f27-4cf7-f109-ed96c311f924"
      },
      "source": [
        "encoder=Model(input_img,encoded)  # This model maps an input to its encoded  representation\n",
        "encoder.summary()\n"
      ],
      "execution_count": 35,
      "outputs": [
        {
          "output_type": "stream",
          "text": [
            "Model: \"model_1\"\n",
            "_________________________________________________________________\n",
            "Layer (type)                 Output Shape              Param #   \n",
            "=================================================================\n",
            "input_1 (InputLayer)         [(None, 28, 28, 1)]       0         \n",
            "_________________________________________________________________\n",
            "conv2d_18 (Conv2D)           (None, 28, 28, 16)        160       \n",
            "_________________________________________________________________\n",
            "max_pooling2d_12 (MaxPooling (None, 14, 14, 16)        0         \n",
            "_________________________________________________________________\n",
            "conv2d_19 (Conv2D)           (None, 14, 14, 8)         1160      \n",
            "_________________________________________________________________\n",
            "max_pooling2d_13 (MaxPooling (None, 7, 7, 8)           0         \n",
            "_________________________________________________________________\n",
            "conv2d_20 (Conv2D)           (None, 7, 7, 8)           584       \n",
            "_________________________________________________________________\n",
            "max_pooling2d_14 (MaxPooling (None, 4, 4, 8)           0         \n",
            "=================================================================\n",
            "Total params: 1,904\n",
            "Trainable params: 1,904\n",
            "Non-trainable params: 0\n",
            "_________________________________________________________________\n"
          ],
          "name": "stdout"
        }
      ]
    },
    {
      "cell_type": "markdown",
      "metadata": {
        "id": "rjsntboEz38l",
        "colab_type": "text"
      },
      "source": [
        "# As wel as the decoder model\n",
        "* **decoder matrai garnu parya.**\n",
        "\n",
        "* **decoder lai model ma pass garnu parxa.**"
      ]
    },
    {
      "cell_type": "code",
      "metadata": {
        "id": "UPBYOKcqz3DN",
        "colab_type": "code",
        "colab": {}
      },
      "source": [
        "encoded_input=Input(shape=(encoding_dim,))\n",
        "decoder_layer=autoencoder.layers[-1]\n",
        "decoder=Model(encoded_input,decoder_layer(encoded_input))"
      ],
      "execution_count": 0,
      "outputs": []
    },
    {
      "cell_type": "code",
      "metadata": {
        "id": "70epxPJoxiIS",
        "colab_type": "code",
        "outputId": "3b3985bb-3483-44e0-a4f7-836958404b12",
        "colab": {
          "base_uri": "https://localhost:8080/",
          "height": 1000
        }
      },
      "source": [
        "autoencoder.fit(x_train,x_train,epochs=50,batch_size=256,shuffle=True,validation_data=(x_test,x_test))"
      ],
      "execution_count": 0,
      "outputs": [
        {
          "output_type": "stream",
          "text": [
            "Train on 60000 samples, validate on 10000 samples\n",
            "Epoch 1/50\n",
            "60000/60000 [==============================] - 4s 67us/sample - loss: 0.2780 - val_loss: 0.1911\n",
            "Epoch 2/50\n",
            "60000/60000 [==============================] - 3s 56us/sample - loss: 0.1715 - val_loss: 0.1541\n",
            "Epoch 3/50\n",
            "60000/60000 [==============================] - 3s 57us/sample - loss: 0.1445 - val_loss: 0.1335\n",
            "Epoch 4/50\n",
            "60000/60000 [==============================] - 3s 56us/sample - loss: 0.1278 - val_loss: 0.1202\n",
            "Epoch 5/50\n",
            "60000/60000 [==============================] - 3s 55us/sample - loss: 0.1171 - val_loss: 0.1119\n",
            "Epoch 6/50\n",
            "60000/60000 [==============================] - 3s 55us/sample - loss: 0.1102 - val_loss: 0.1061\n",
            "Epoch 7/50\n",
            "60000/60000 [==============================] - 3s 56us/sample - loss: 0.1053 - val_loss: 0.1021\n",
            "Epoch 8/50\n",
            "60000/60000 [==============================] - 3s 56us/sample - loss: 0.1017 - val_loss: 0.0990\n",
            "Epoch 9/50\n",
            "60000/60000 [==============================] - 3s 55us/sample - loss: 0.0992 - val_loss: 0.0968\n",
            "Epoch 10/50\n",
            "60000/60000 [==============================] - 3s 53us/sample - loss: 0.0974 - val_loss: 0.0953\n",
            "Epoch 11/50\n",
            "60000/60000 [==============================] - 3s 56us/sample - loss: 0.0962 - val_loss: 0.0944\n",
            "Epoch 12/50\n",
            "60000/60000 [==============================] - 3s 56us/sample - loss: 0.0954 - val_loss: 0.0938\n",
            "Epoch 13/50\n",
            "60000/60000 [==============================] - 3s 56us/sample - loss: 0.0949 - val_loss: 0.0934\n",
            "Epoch 14/50\n",
            "60000/60000 [==============================] - 3s 56us/sample - loss: 0.0946 - val_loss: 0.0931\n",
            "Epoch 15/50\n",
            "60000/60000 [==============================] - 3s 56us/sample - loss: 0.0943 - val_loss: 0.0928\n",
            "Epoch 16/50\n",
            "60000/60000 [==============================] - 3s 54us/sample - loss: 0.0941 - val_loss: 0.0927\n",
            "Epoch 17/50\n",
            "60000/60000 [==============================] - 3s 55us/sample - loss: 0.0939 - val_loss: 0.0925\n",
            "Epoch 18/50\n",
            "60000/60000 [==============================] - 3s 56us/sample - loss: 0.0938 - val_loss: 0.0924\n",
            "Epoch 19/50\n",
            "60000/60000 [==============================] - 3s 56us/sample - loss: 0.0937 - val_loss: 0.0923\n",
            "Epoch 20/50\n",
            "60000/60000 [==============================] - 3s 56us/sample - loss: 0.0936 - val_loss: 0.0922\n",
            "Epoch 21/50\n",
            "60000/60000 [==============================] - 3s 56us/sample - loss: 0.0935 - val_loss: 0.0923\n",
            "Epoch 22/50\n",
            "60000/60000 [==============================] - 3s 56us/sample - loss: 0.0934 - val_loss: 0.0922\n",
            "Epoch 23/50\n",
            "60000/60000 [==============================] - 3s 55us/sample - loss: 0.0933 - val_loss: 0.0920\n",
            "Epoch 24/50\n",
            "60000/60000 [==============================] - 3s 55us/sample - loss: 0.0933 - val_loss: 0.0921\n",
            "Epoch 25/50\n",
            "60000/60000 [==============================] - 3s 56us/sample - loss: 0.0932 - val_loss: 0.0920\n",
            "Epoch 26/50\n",
            "60000/60000 [==============================] - 3s 55us/sample - loss: 0.0932 - val_loss: 0.0919\n",
            "Epoch 27/50\n",
            "60000/60000 [==============================] - 3s 57us/sample - loss: 0.0931 - val_loss: 0.0919\n",
            "Epoch 28/50\n",
            "60000/60000 [==============================] - 3s 55us/sample - loss: 0.0931 - val_loss: 0.0919\n",
            "Epoch 29/50\n",
            "60000/60000 [==============================] - 3s 55us/sample - loss: 0.0931 - val_loss: 0.0920\n",
            "Epoch 30/50\n",
            "60000/60000 [==============================] - 3s 57us/sample - loss: 0.0930 - val_loss: 0.0920\n",
            "Epoch 31/50\n",
            "60000/60000 [==============================] - 3s 56us/sample - loss: 0.0930 - val_loss: 0.0918\n",
            "Epoch 32/50\n",
            "60000/60000 [==============================] - 3s 56us/sample - loss: 0.0930 - val_loss: 0.0918\n",
            "Epoch 33/50\n",
            "60000/60000 [==============================] - 3s 56us/sample - loss: 0.0929 - val_loss: 0.0917\n",
            "Epoch 34/50\n",
            "60000/60000 [==============================] - 3s 54us/sample - loss: 0.0929 - val_loss: 0.0917\n",
            "Epoch 35/50\n",
            "60000/60000 [==============================] - 3s 55us/sample - loss: 0.0929 - val_loss: 0.0917\n",
            "Epoch 36/50\n",
            "60000/60000 [==============================] - 3s 55us/sample - loss: 0.0929 - val_loss: 0.0917\n",
            "Epoch 37/50\n",
            "60000/60000 [==============================] - 3s 57us/sample - loss: 0.0928 - val_loss: 0.0917\n",
            "Epoch 38/50\n",
            "60000/60000 [==============================] - 3s 56us/sample - loss: 0.0928 - val_loss: 0.0917\n",
            "Epoch 39/50\n",
            "60000/60000 [==============================] - 3s 56us/sample - loss: 0.0928 - val_loss: 0.0916\n",
            "Epoch 40/50\n",
            "60000/60000 [==============================] - 3s 57us/sample - loss: 0.0928 - val_loss: 0.0916\n",
            "Epoch 41/50\n",
            "60000/60000 [==============================] - 3s 54us/sample - loss: 0.0927 - val_loss: 0.0915\n",
            "Epoch 42/50\n",
            "60000/60000 [==============================] - 3s 55us/sample - loss: 0.0927 - val_loss: 0.0915\n",
            "Epoch 43/50\n",
            "60000/60000 [==============================] - 3s 56us/sample - loss: 0.0927 - val_loss: 0.0916\n",
            "Epoch 44/50\n",
            "60000/60000 [==============================] - 3s 55us/sample - loss: 0.0927 - val_loss: 0.0917\n",
            "Epoch 45/50\n",
            "60000/60000 [==============================] - 3s 56us/sample - loss: 0.0927 - val_loss: 0.0914\n",
            "Epoch 46/50\n",
            "60000/60000 [==============================] - 3s 54us/sample - loss: 0.0926 - val_loss: 0.0915\n",
            "Epoch 47/50\n",
            "60000/60000 [==============================] - 3s 55us/sample - loss: 0.0926 - val_loss: 0.0915\n",
            "Epoch 48/50\n",
            "60000/60000 [==============================] - 3s 55us/sample - loss: 0.0926 - val_loss: 0.0915\n",
            "Epoch 49/50\n",
            "60000/60000 [==============================] - 3s 56us/sample - loss: 0.0926 - val_loss: 0.0914\n",
            "Epoch 50/50\n",
            "60000/60000 [==============================] - 3s 56us/sample - loss: 0.0926 - val_loss: 0.0915\n"
          ],
          "name": "stdout"
        },
        {
          "output_type": "execute_result",
          "data": {
            "text/plain": [
              "<tensorflow.python.keras.callbacks.History at 0x7f92e3913dd8>"
            ]
          },
          "metadata": {
            "tags": []
          },
          "execution_count": 31
        }
      ]
    },
    {
      "cell_type": "code",
      "metadata": {
        "id": "QXnYxIzHmXRq",
        "colab_type": "code",
        "colab": {}
      },
      "source": [
        "encoded_imgs=encoder.predict(x_test)\n",
        "decoded_imgs=decoder.predict(encoded_imgs)\n"
      ],
      "execution_count": 0,
      "outputs": []
    },
    {
      "cell_type": "code",
      "metadata": {
        "id": "FQtSnt9EmXRu",
        "colab_type": "code",
        "outputId": "952ff1d1-c453-4fcf-a706-0c96bda6d2d0",
        "colab": {
          "base_uri": "https://localhost:8080/",
          "height": 268
        }
      },
      "source": [
        "import matplotlib.pyplot as plt\n",
        "n=10\n",
        "plt.figure(figsize=(20,4))\n",
        "for i in range(n):\n",
        "  # display original\n",
        "  ax=plt.subplot(2,n,i+1)\n",
        "  plt.imshow(x_test[i].reshape(28,28))\n",
        "  plt.gray()\n",
        "  ax.get_xaxis().set_visible(False)\n",
        "  ax.get_yaxis().set_visible(False)\n",
        "\n",
        "  # display reconstruction\n",
        "  ax=plt.subplot(2,n,i+1+n)\n",
        "  plt.imshow(decoded_imgs[i].reshape(28,28))\n",
        "  plt.gray()\n",
        "  ax.get_xaxis().set_visible(False)\n",
        "  ax.get_yaxis().set_visible(False)\n",
        "plt.show()\n",
        "\n"
      ],
      "execution_count": 0,
      "outputs": [
        {
          "output_type": "display_data",
          "data": {
            "image/png": "[encoded data removed]",
            "text/plain": [
              "<Figure size 1440x288 with 20 Axes>"
            ]
          },
          "metadata": {
            "tags": []
          }
        }
      ]
    },
    {
      "cell_type": "markdown",
      "metadata": {
        "id": "EIE-Dmr62-xz",
        "colab_type": "text"
      },
      "source": [
        "#Adding a sparsity constraint on the encoded representations\n",
        "In the previous example, the representations were only constrained by the size of the hidden layer (32). In such a situation, what typically happens is that the hidden layer is learning an approximation of PCA (principal component analysis). But another way to constrain the representations to be compact is to add a sparsity contraint on the activity of the hidden representations, so fewer units would \"fire\" at a given time. In Keras, this can be done by adding an activity_regularizer to our Dense layer:\n"
      ]
    },
    {
      "cell_type": "code",
      "metadata": {
        "id": "51CFrftbmXRx",
        "colab_type": "code",
        "colab": {}
      },
      "source": [
        "from keras import regularizers\n",
        "\n",
        "encoding_dim = 32\n",
        "\n",
        "input_img = Input(shape=(784,))\n",
        "# add a Dense layer with a L1 activity regularizer\n",
        "encoded = Dense(encoding_dim, activation='relu',\n",
        "                activity_regularizer=regularizers.l1(10e-5))(input_img)\n",
        "decoded = Dense(784, activation='sigmoid')(encoded)\n",
        "\n",
        "autoencoder = Model(input_img, decoded)"
      ],
      "execution_count": 0,
      "outputs": []
    },
    {
      "cell_type": "markdown",
      "metadata": {
        "id": "h3MMdOwz3Ygs",
        "colab_type": "text"
      },
      "source": [
        "# Deep autoencoder\n",
        "We do not have to limit ourselves to a single layer as encoder or decoder, we could instead use a stack of layers, such as:"
      ]
    },
    {
      "cell_type": "code",
      "metadata": {
        "id": "NmOWFmsI3Xyc",
        "colab_type": "code",
        "colab": {}
      },
      "source": [
        "input_img = Input(shape=(784,))\n",
        "encoded = Dense(128, activation='relu')(input_img)\n",
        "encoded = Dense(64, activation='relu')(encoded)\n",
        "encoded = Dense(32, activation='relu')(encoded)\n",
        "\n",
        "decoded = Dense(64, activation='relu')(encoded)\n",
        "decoded = Dense(128, activation='relu')(decoded)\n",
        "decoded = Dense(784, activation='sigmoid')(decoded)"
      ],
      "execution_count": 0,
      "outputs": []
    },
    {
      "cell_type": "code",
      "metadata": {
        "id": "zyi3OX0EmXR1",
        "colab_type": "code",
        "outputId": "5b4b2589-0fce-46bb-f14a-211e69f65752",
        "colab": {
          "base_uri": "https://localhost:8080/",
          "height": 1000
        }
      },
      "source": [
        "autoencoder = Model(input_img, decoded)\n",
        "autoencoder.compile(optimizer='adadelta', loss='binary_crossentropy')\n",
        "\n",
        "autoencoder.fit(x_train, x_train,\n",
        "                epochs=100,\n",
        "                batch_size=256,\n",
        "                shuffle=True,\n",
        "                validation_data=(x_test, x_test))"
      ],
      "execution_count": 0,
      "outputs": [
        {
          "output_type": "stream",
          "text": [
            "Train on 60000 samples, validate on 10000 samples\n",
            "Epoch 1/100\n",
            "60000/60000 [==============================] - 6s 95us/sample - loss: 0.6932 - val_loss: 0.6932\n",
            "Epoch 2/100\n",
            "60000/60000 [==============================] - 5s 86us/sample - loss: 0.6932 - val_loss: 0.6931\n",
            "Epoch 3/100\n",
            "60000/60000 [==============================] - 5s 87us/sample - loss: 0.6931 - val_loss: 0.6931\n",
            "Epoch 4/100\n",
            "60000/60000 [==============================] - 5s 87us/sample - loss: 0.6930 - val_loss: 0.6930\n",
            "Epoch 5/100\n",
            "60000/60000 [==============================] - 5s 87us/sample - loss: 0.6929 - val_loss: 0.6929\n",
            "Epoch 6/100\n",
            "60000/60000 [==============================] - 5s 85us/sample - loss: 0.6929 - val_loss: 0.6928\n",
            "Epoch 7/100\n",
            "60000/60000 [==============================] - 5s 87us/sample - loss: 0.6928 - val_loss: 0.6927\n",
            "Epoch 8/100\n",
            "60000/60000 [==============================] - 5s 85us/sample - loss: 0.6927 - val_loss: 0.6927\n",
            "Epoch 9/100\n",
            "60000/60000 [==============================] - 5s 87us/sample - loss: 0.6926 - val_loss: 0.6926\n",
            "Epoch 10/100\n",
            "60000/60000 [==============================] - 5s 87us/sample - loss: 0.6926 - val_loss: 0.6925\n",
            "Epoch 11/100\n",
            "60000/60000 [==============================] - 5s 88us/sample - loss: 0.6925 - val_loss: 0.6924\n",
            "Epoch 12/100\n",
            "60000/60000 [==============================] - 5s 86us/sample - loss: 0.6924 - val_loss: 0.6924\n",
            "Epoch 13/100\n",
            "60000/60000 [==============================] - 5s 85us/sample - loss: 0.6923 - val_loss: 0.6923\n",
            "Epoch 14/100\n",
            "60000/60000 [==============================] - 5s 87us/sample - loss: 0.6923 - val_loss: 0.6922\n",
            "Epoch 15/100\n",
            "60000/60000 [==============================] - 5s 86us/sample - loss: 0.6922 - val_loss: 0.6921\n",
            "Epoch 16/100\n",
            "60000/60000 [==============================] - 5s 87us/sample - loss: 0.6921 - val_loss: 0.6921\n",
            "Epoch 17/100\n",
            "60000/60000 [==============================] - 5s 85us/sample - loss: 0.6920 - val_loss: 0.6920\n",
            "Epoch 18/100\n",
            "60000/60000 [==============================] - 5s 86us/sample - loss: 0.6920 - val_loss: 0.6919\n",
            "Epoch 19/100\n",
            "60000/60000 [==============================] - 5s 87us/sample - loss: 0.6919 - val_loss: 0.6918\n",
            "Epoch 20/100\n",
            "60000/60000 [==============================] - 5s 84us/sample - loss: 0.6918 - val_loss: 0.6918\n",
            "Epoch 21/100\n",
            "60000/60000 [==============================] - 5s 87us/sample - loss: 0.6917 - val_loss: 0.6917\n",
            "Epoch 22/100\n",
            "60000/60000 [==============================] - 5s 87us/sample - loss: 0.6917 - val_loss: 0.6916\n",
            "Epoch 23/100\n",
            "60000/60000 [==============================] - 5s 87us/sample - loss: 0.6916 - val_loss: 0.6915\n",
            "Epoch 24/100\n",
            "60000/60000 [==============================] - 5s 85us/sample - loss: 0.6915 - val_loss: 0.6915\n",
            "Epoch 25/100\n",
            "60000/60000 [==============================] - 5s 86us/sample - loss: 0.6914 - val_loss: 0.6914\n",
            "Epoch 26/100\n",
            "60000/60000 [==============================] - 5s 87us/sample - loss: 0.6914 - val_loss: 0.6913\n",
            "Epoch 27/100\n",
            "60000/60000 [==============================] - 5s 86us/sample - loss: 0.6913 - val_loss: 0.6912\n",
            "Epoch 28/100\n",
            "60000/60000 [==============================] - 5s 86us/sample - loss: 0.6912 - val_loss: 0.6912\n",
            "Epoch 29/100\n",
            "60000/60000 [==============================] - 5s 85us/sample - loss: 0.6911 - val_loss: 0.6911\n",
            "Epoch 30/100\n",
            "60000/60000 [==============================] - 5s 85us/sample - loss: 0.6911 - val_loss: 0.6910\n",
            "Epoch 31/100\n",
            "60000/60000 [==============================] - 5s 86us/sample - loss: 0.6910 - val_loss: 0.6909\n",
            "Epoch 32/100\n",
            "60000/60000 [==============================] - 5s 85us/sample - loss: 0.6909 - val_loss: 0.6909\n",
            "Epoch 33/100\n",
            "60000/60000 [==============================] - 5s 86us/sample - loss: 0.6908 - val_loss: 0.6908\n",
            "Epoch 34/100\n",
            "60000/60000 [==============================] - 5s 90us/sample - loss: 0.6908 - val_loss: 0.6907\n",
            "Epoch 35/100\n",
            "60000/60000 [==============================] - 5s 86us/sample - loss: 0.6907 - val_loss: 0.6906\n",
            "Epoch 36/100\n",
            "60000/60000 [==============================] - 5s 85us/sample - loss: 0.6906 - val_loss: 0.6906\n",
            "Epoch 37/100\n",
            "60000/60000 [==============================] - 5s 87us/sample - loss: 0.6905 - val_loss: 0.6905\n",
            "Epoch 38/100\n",
            "60000/60000 [==============================] - 5s 85us/sample - loss: 0.6904 - val_loss: 0.6904\n",
            "Epoch 39/100\n",
            "60000/60000 [==============================] - 5s 86us/sample - loss: 0.6904 - val_loss: 0.6903\n",
            "Epoch 40/100\n",
            "60000/60000 [==============================] - 5s 85us/sample - loss: 0.6903 - val_loss: 0.6903\n",
            "Epoch 41/100\n",
            "60000/60000 [==============================] - 5s 86us/sample - loss: 0.6902 - val_loss: 0.6902\n",
            "Epoch 42/100\n",
            "60000/60000 [==============================] - 5s 85us/sample - loss: 0.6901 - val_loss: 0.6901\n",
            "Epoch 43/100\n",
            "60000/60000 [==============================] - 5s 86us/sample - loss: 0.6901 - val_loss: 0.6900\n",
            "Epoch 44/100\n",
            "60000/60000 [==============================] - 5s 86us/sample - loss: 0.6900 - val_loss: 0.6899\n",
            "Epoch 45/100\n",
            "60000/60000 [==============================] - 5s 88us/sample - loss: 0.6899 - val_loss: 0.6899\n",
            "Epoch 46/100\n",
            "60000/60000 [==============================] - 5s 91us/sample - loss: 0.6898 - val_loss: 0.6898\n",
            "Epoch 47/100\n",
            "60000/60000 [==============================] - 5s 85us/sample - loss: 0.6897 - val_loss: 0.6897\n",
            "Epoch 48/100\n",
            "60000/60000 [==============================] - 5s 86us/sample - loss: 0.6897 - val_loss: 0.6896\n",
            "Epoch 49/100\n",
            "60000/60000 [==============================] - 5s 87us/sample - loss: 0.6896 - val_loss: 0.6895\n",
            "Epoch 50/100\n",
            "60000/60000 [==============================] - 5s 87us/sample - loss: 0.6895 - val_loss: 0.6895\n",
            "Epoch 51/100\n",
            "60000/60000 [==============================] - 5s 86us/sample - loss: 0.6894 - val_loss: 0.6894\n",
            "Epoch 52/100\n",
            "60000/60000 [==============================] - 5s 85us/sample - loss: 0.6893 - val_loss: 0.6893\n",
            "Epoch 53/100\n",
            "60000/60000 [==============================] - 5s 86us/sample - loss: 0.6893 - val_loss: 0.6892\n",
            "Epoch 54/100\n",
            "60000/60000 [==============================] - 5s 86us/sample - loss: 0.6892 - val_loss: 0.6891\n",
            "Epoch 55/100\n",
            "60000/60000 [==============================] - 5s 84us/sample - loss: 0.6891 - val_loss: 0.6891\n",
            "Epoch 56/100\n",
            "60000/60000 [==============================] - 5s 87us/sample - loss: 0.6890 - val_loss: 0.6890\n",
            "Epoch 57/100\n",
            "60000/60000 [==============================] - 5s 91us/sample - loss: 0.6889 - val_loss: 0.6889\n",
            "Epoch 58/100\n",
            "60000/60000 [==============================] - 5s 90us/sample - loss: 0.6888 - val_loss: 0.6888\n",
            "Epoch 59/100\n",
            "60000/60000 [==============================] - 5s 86us/sample - loss: 0.6887 - val_loss: 0.6887\n",
            "Epoch 60/100\n",
            "60000/60000 [==============================] - 5s 87us/sample - loss: 0.6887 - val_loss: 0.6886\n",
            "Epoch 61/100\n",
            "60000/60000 [==============================] - 5s 88us/sample - loss: 0.6886 - val_loss: 0.6885\n",
            "Epoch 62/100\n",
            "60000/60000 [==============================] - 5s 87us/sample - loss: 0.6885 - val_loss: 0.6885\n",
            "Epoch 63/100\n",
            "60000/60000 [==============================] - 5s 87us/sample - loss: 0.6884 - val_loss: 0.6884\n",
            "Epoch 64/100\n",
            "60000/60000 [==============================] - 5s 87us/sample - loss: 0.6883 - val_loss: 0.6883\n",
            "Epoch 65/100\n",
            "60000/60000 [==============================] - 5s 85us/sample - loss: 0.6882 - val_loss: 0.6882\n",
            "Epoch 66/100\n",
            "60000/60000 [==============================] - 5s 85us/sample - loss: 0.6881 - val_loss: 0.6881\n",
            "Epoch 67/100\n",
            "60000/60000 [==============================] - 5s 86us/sample - loss: 0.6880 - val_loss: 0.6880\n",
            "Epoch 68/100\n",
            "60000/60000 [==============================] - 5s 88us/sample - loss: 0.6879 - val_loss: 0.6879\n",
            "Epoch 69/100\n",
            "60000/60000 [==============================] - 5s 89us/sample - loss: 0.6879 - val_loss: 0.6878\n",
            "Epoch 70/100\n",
            "60000/60000 [==============================] - 5s 87us/sample - loss: 0.6878 - val_loss: 0.6877\n",
            "Epoch 71/100\n",
            "60000/60000 [==============================] - 5s 87us/sample - loss: 0.6877 - val_loss: 0.6876\n",
            "Epoch 72/100\n",
            "60000/60000 [==============================] - 5s 89us/sample - loss: 0.6876 - val_loss: 0.6875\n",
            "Epoch 73/100\n",
            "60000/60000 [==============================] - 5s 88us/sample - loss: 0.6875 - val_loss: 0.6874\n",
            "Epoch 74/100\n",
            "60000/60000 [==============================] - 5s 87us/sample - loss: 0.6874 - val_loss: 0.6873\n",
            "Epoch 75/100\n",
            "60000/60000 [==============================] - 5s 87us/sample - loss: 0.6873 - val_loss: 0.6872\n",
            "Epoch 76/100\n",
            "60000/60000 [==============================] - 5s 86us/sample - loss: 0.6872 - val_loss: 0.6871\n",
            "Epoch 77/100\n",
            "60000/60000 [==============================] - 5s 86us/sample - loss: 0.6871 - val_loss: 0.6870\n",
            "Epoch 78/100\n",
            "60000/60000 [==============================] - 5s 85us/sample - loss: 0.6870 - val_loss: 0.6869\n",
            "Epoch 79/100\n",
            "60000/60000 [==============================] - 5s 88us/sample - loss: 0.6869 - val_loss: 0.6868\n",
            "Epoch 80/100\n",
            "60000/60000 [==============================] - 6s 97us/sample - loss: 0.6868 - val_loss: 0.6867\n",
            "Epoch 81/100\n",
            "60000/60000 [==============================] - 5s 88us/sample - loss: 0.6867 - val_loss: 0.6866\n",
            "Epoch 82/100\n",
            "60000/60000 [==============================] - 5s 86us/sample - loss: 0.6866 - val_loss: 0.6865\n",
            "Epoch 83/100\n",
            "60000/60000 [==============================] - 5s 89us/sample - loss: 0.6864 - val_loss: 0.6864\n",
            "Epoch 84/100\n",
            "60000/60000 [==============================] - 5s 88us/sample - loss: 0.6863 - val_loss: 0.6863\n",
            "Epoch 85/100\n",
            "60000/60000 [==============================] - 5s 88us/sample - loss: 0.6862 - val_loss: 0.6862\n",
            "Epoch 86/100\n",
            "60000/60000 [==============================] - 5s 86us/sample - loss: 0.6861 - val_loss: 0.6861\n",
            "Epoch 87/100\n",
            "60000/60000 [==============================] - 5s 89us/sample - loss: 0.6860 - val_loss: 0.6859\n",
            "Epoch 88/100\n",
            "60000/60000 [==============================] - 5s 86us/sample - loss: 0.6859 - val_loss: 0.6858\n",
            "Epoch 89/100\n",
            "60000/60000 [==============================] - 5s 84us/sample - loss: 0.6857 - val_loss: 0.6857\n",
            "Epoch 90/100\n",
            "60000/60000 [==============================] - 5s 85us/sample - loss: 0.6856 - val_loss: 0.6856\n",
            "Epoch 91/100\n",
            "60000/60000 [==============================] - 5s 88us/sample - loss: 0.6855 - val_loss: 0.6854\n",
            "Epoch 92/100\n",
            "60000/60000 [==============================] - 5s 88us/sample - loss: 0.6854 - val_loss: 0.6853\n",
            "Epoch 93/100\n",
            "60000/60000 [==============================] - 5s 87us/sample - loss: 0.6852 - val_loss: 0.6852\n",
            "Epoch 94/100\n",
            "60000/60000 [==============================] - 5s 86us/sample - loss: 0.6851 - val_loss: 0.6850\n",
            "Epoch 95/100\n",
            "60000/60000 [==============================] - 5s 88us/sample - loss: 0.6850 - val_loss: 0.6849\n",
            "Epoch 96/100\n",
            "60000/60000 [==============================] - 5s 87us/sample - loss: 0.6848 - val_loss: 0.6848\n",
            "Epoch 97/100\n",
            "60000/60000 [==============================] - 5s 88us/sample - loss: 0.6847 - val_loss: 0.6846\n",
            "Epoch 98/100\n",
            "60000/60000 [==============================] - 5s 86us/sample - loss: 0.6846 - val_loss: 0.6845\n",
            "Epoch 99/100\n",
            "60000/60000 [==============================] - 5s 86us/sample - loss: 0.6844 - val_loss: 0.6843\n",
            "Epoch 100/100\n",
            "60000/60000 [==============================] - 5s 86us/sample - loss: 0.6843 - val_loss: 0.6842\n"
          ],
          "name": "stdout"
        },
        {
          "output_type": "execute_result",
          "data": {
            "text/plain": [
              "<tensorflow.python.keras.callbacks.History at 0x7f92e2a43be0>"
            ]
          },
          "metadata": {
            "tags": []
          },
          "execution_count": 42
        }
      ]
    },
    {
      "cell_type": "markdown",
      "metadata": {
        "id": "_QhKG2UbWIBD",
        "colab_type": "text"
      },
      "source": [
        "# Convolution Autoencoder \n",
        " * The encoder will consist in a stack of Conv2D and MaxPooling2D layers (max pooling being used for spatial down-sampling), while the decoder will consist in a stack of Conv2D and UpSampling2D layers."
      ]
    },
    {
      "cell_type": "code",
      "metadata": {
        "id": "Oz-vpqZhmXR5",
        "colab_type": "code",
        "colab": {
          "base_uri": "https://localhost:8080/",
          "height": 955
        },
        "outputId": "c2c4c9f9-e0ff-4b45-9004-6a984c0264b5"
      },
      "source": [
        "!pip install tensorflow==2.0.0"
      ],
      "execution_count": 1,
      "outputs": [
        {
          "output_type": "stream",
          "text": [
            "Collecting tensorflow==2.0.0\n",
            "\u001b[?25l  Downloading https://files.pythonhosted.org/packages/46/0f/7bd55361168bb32796b360ad15a25de6966c9c1beb58a8e30c01c8279862/tensorflow-2.0.0-cp36-cp36m-manylinux2010_x86_64.whl (86.3MB)\n",
            "\u001b[K     |████████████████████████████████| 86.3MB 72kB/s \n",
            "\u001b[?25hRequirement already satisfied: google-pasta>=0.1.6 in /usr/local/lib/python3.6/dist-packages (from tensorflow==2.0.0) (0.1.8)\n",
            "Requirement already satisfied: numpy<2.0,>=1.16.0 in /usr/local/lib/python3.6/dist-packages (from tensorflow==2.0.0) (1.17.5)\n",
            "Collecting tensorflow-estimator<2.1.0,>=2.0.0\n",
            "\u001b[?25l  Downloading https://files.pythonhosted.org/packages/fc/08/8b927337b7019c374719145d1dceba21a8bb909b93b1ad6f8fb7d22c1ca1/tensorflow_estimator-2.0.1-py2.py3-none-any.whl (449kB)\n",
            "\u001b[K     |████████████████████████████████| 450kB 56.3MB/s \n",
            "\u001b[?25hRequirement already satisfied: gast==0.2.2 in /usr/local/lib/python3.6/dist-packages (from tensorflow==2.0.0) (0.2.2)\n",
            "Requirement already satisfied: termcolor>=1.1.0 in /usr/local/lib/python3.6/dist-packages (from tensorflow==2.0.0) (1.1.0)\n",
            "Requirement already satisfied: wrapt>=1.11.1 in /usr/local/lib/python3.6/dist-packages (from tensorflow==2.0.0) (1.11.2)\n",
            "Requirement already satisfied: wheel>=0.26 in /usr/local/lib/python3.6/dist-packages (from tensorflow==2.0.0) (0.34.2)\n",
            "Collecting tensorboard<2.1.0,>=2.0.0\n",
            "\u001b[?25l  Downloading https://files.pythonhosted.org/packages/76/54/99b9d5d52d5cb732f099baaaf7740403e83fe6b0cedde940fabd2b13d75a/tensorboard-2.0.2-py3-none-any.whl (3.8MB)\n",
            "\u001b[K     |████████████████████████████████| 3.8MB 55.2MB/s \n",
            "\u001b[?25hRequirement already satisfied: protobuf>=3.6.1 in /usr/local/lib/python3.6/dist-packages (from tensorflow==2.0.0) (3.10.0)\n",
            "Requirement already satisfied: keras-applications>=1.0.8 in /usr/local/lib/python3.6/dist-packages (from tensorflow==2.0.0) (1.0.8)\n",
            "Requirement already satisfied: six>=1.10.0 in /usr/local/lib/python3.6/dist-packages (from tensorflow==2.0.0) (1.12.0)\n",
            "Requirement already satisfied: opt-einsum>=2.3.2 in /usr/local/lib/python3.6/dist-packages (from tensorflow==2.0.0) (3.1.0)\n",
            "Requirement already satisfied: grpcio>=1.8.6 in /usr/local/lib/python3.6/dist-packages (from tensorflow==2.0.0) (1.27.1)\n",
            "Requirement already satisfied: astor>=0.6.0 in /usr/local/lib/python3.6/dist-packages (from tensorflow==2.0.0) (0.8.1)\n",
            "Requirement already satisfied: absl-py>=0.7.0 in /usr/local/lib/python3.6/dist-packages (from tensorflow==2.0.0) (0.9.0)\n",
            "Requirement already satisfied: keras-preprocessing>=1.0.5 in /usr/local/lib/python3.6/dist-packages (from tensorflow==2.0.0) (1.1.0)\n",
            "Requirement already satisfied: google-auth<2,>=1.6.3 in /usr/local/lib/python3.6/dist-packages (from tensorboard<2.1.0,>=2.0.0->tensorflow==2.0.0) (1.7.2)\n",
            "Requirement already satisfied: werkzeug>=0.11.15 in /usr/local/lib/python3.6/dist-packages (from tensorboard<2.1.0,>=2.0.0->tensorflow==2.0.0) (1.0.0)\n",
            "Requirement already satisfied: requests<3,>=2.21.0 in /usr/local/lib/python3.6/dist-packages (from tensorboard<2.1.0,>=2.0.0->tensorflow==2.0.0) (2.21.0)\n",
            "Requirement already satisfied: setuptools>=41.0.0 in /usr/local/lib/python3.6/dist-packages (from tensorboard<2.1.0,>=2.0.0->tensorflow==2.0.0) (45.1.0)\n",
            "Requirement already satisfied: markdown>=2.6.8 in /usr/local/lib/python3.6/dist-packages (from tensorboard<2.1.0,>=2.0.0->tensorflow==2.0.0) (3.2.1)\n",
            "Requirement already satisfied: google-auth-oauthlib<0.5,>=0.4.1 in /usr/local/lib/python3.6/dist-packages (from tensorboard<2.1.0,>=2.0.0->tensorflow==2.0.0) (0.4.1)\n",
            "Requirement already satisfied: h5py in /usr/local/lib/python3.6/dist-packages (from keras-applications>=1.0.8->tensorflow==2.0.0) (2.8.0)\n",
            "Requirement already satisfied: cachetools<3.2,>=2.0.0 in /usr/local/lib/python3.6/dist-packages (from google-auth<2,>=1.6.3->tensorboard<2.1.0,>=2.0.0->tensorflow==2.0.0) (3.1.1)\n",
            "Requirement already satisfied: rsa<4.1,>=3.1.4 in /usr/local/lib/python3.6/dist-packages (from google-auth<2,>=1.6.3->tensorboard<2.1.0,>=2.0.0->tensorflow==2.0.0) (4.0)\n",
            "Requirement already satisfied: pyasn1-modules>=0.2.1 in /usr/local/lib/python3.6/dist-packages (from google-auth<2,>=1.6.3->tensorboard<2.1.0,>=2.0.0->tensorflow==2.0.0) (0.2.8)\n",
            "Requirement already satisfied: idna<2.9,>=2.5 in /usr/local/lib/python3.6/dist-packages (from requests<3,>=2.21.0->tensorboard<2.1.0,>=2.0.0->tensorflow==2.0.0) (2.8)\n",
            "Requirement already satisfied: urllib3<1.25,>=1.21.1 in /usr/local/lib/python3.6/dist-packages (from requests<3,>=2.21.0->tensorboard<2.1.0,>=2.0.0->tensorflow==2.0.0) (1.24.3)\n",
            "Requirement already satisfied: chardet<3.1.0,>=3.0.2 in /usr/local/lib/python3.6/dist-packages (from requests<3,>=2.21.0->tensorboard<2.1.0,>=2.0.0->tensorflow==2.0.0) (3.0.4)\n",
            "Requirement already satisfied: certifi>=2017.4.17 in /usr/local/lib/python3.6/dist-packages (from requests<3,>=2.21.0->tensorboard<2.1.0,>=2.0.0->tensorflow==2.0.0) (2019.11.28)\n",
            "Requirement already satisfied: requests-oauthlib>=0.7.0 in /usr/local/lib/python3.6/dist-packages (from google-auth-oauthlib<0.5,>=0.4.1->tensorboard<2.1.0,>=2.0.0->tensorflow==2.0.0) (1.3.0)\n",
            "Requirement already satisfied: pyasn1>=0.1.3 in /usr/local/lib/python3.6/dist-packages (from rsa<4.1,>=3.1.4->google-auth<2,>=1.6.3->tensorboard<2.1.0,>=2.0.0->tensorflow==2.0.0) (0.4.8)\n",
            "Requirement already satisfied: oauthlib>=3.0.0 in /usr/local/lib/python3.6/dist-packages (from requests-oauthlib>=0.7.0->google-auth-oauthlib<0.5,>=0.4.1->tensorboard<2.1.0,>=2.0.0->tensorflow==2.0.0) (3.1.0)\n",
            "Installing collected packages: tensorflow-estimator, tensorboard, tensorflow\n",
            "  Found existing installation: tensorflow-estimator 1.15.1\n",
            "    Uninstalling tensorflow-estimator-1.15.1:\n",
            "      Successfully uninstalled tensorflow-estimator-1.15.1\n",
            "  Found existing installation: tensorboard 1.15.0\n",
            "    Uninstalling tensorboard-1.15.0:\n",
            "      Successfully uninstalled tensorboard-1.15.0\n",
            "  Found existing installation: tensorflow 1.15.0\n",
            "    Uninstalling tensorflow-1.15.0:\n",
            "      Successfully uninstalled tensorflow-1.15.0\n",
            "Successfully installed tensorboard-2.0.2 tensorflow-2.0.0 tensorflow-estimator-2.0.1\n"
          ],
          "name": "stdout"
        }
      ]
    },
    {
      "cell_type": "code",
      "metadata": {
        "id": "Ghc7FdaamXSA",
        "colab_type": "code",
        "colab": {}
      },
      "source": [
        "from tensorflow.keras.layers import Input,Dense,Conv2D,MaxPooling2D,UpSampling2D\n",
        "from tensorflow.keras.models import Model\n",
        "from tensorflow.keras import backend as k"
      ],
      "execution_count": 0,
      "outputs": []
    },
    {
      "cell_type": "code",
      "metadata": {
        "id": "-w4yssgSmXSD",
        "colab_type": "code",
        "colab": {}
      },
      "source": [
        "input_img=Input(shape=(28,28,1))\n"
      ],
      "execution_count": 0,
      "outputs": []
    },
    {
      "cell_type": "code",
      "metadata": {
        "id": "wkRoy6tzmXSI",
        "colab_type": "code",
        "outputId": "d5d37a61-fbff-49f4-df5b-18a3af534f57",
        "colab": {
          "base_uri": "https://localhost:8080/",
          "height": 35
        }
      },
      "source": [
        "x=Conv2D(16,(3,3),activation='relu',padding='same')(input_img)\n",
        "x=MaxPooling2D((2,2),padding='same')(x)\n",
        "x=Conv2D(8,(3,3),activation='relu',padding='same')(x)\n",
        "x=MaxPooling2D((2,2),padding='same')(x)\n",
        "x=Conv2D(8,(3,3),activation='relu',padding='same')(x)\n",
        "encoded=MaxPooling2D((2,2),padding='same')(x)\n",
        "print(encoded.shape)"
      ],
      "execution_count": 13,
      "outputs": [
        {
          "output_type": "stream",
          "text": [
            "(None, 4, 4, 8)\n"
          ],
          "name": "stdout"
        }
      ]
    },
    {
      "cell_type": "code",
      "metadata": {
        "id": "mGAFxdEKmXSM",
        "colab_type": "code",
        "colab": {}
      },
      "source": [
        "x=Conv2D(8,(3,3),activation='relu',padding='same')(encoded)\n",
        "x=UpSampling2D((2,2))(x)\n",
        "x=Conv2D(8,(3,3),activation='relu',padding='same')(x)\n",
        "x=UpSampling2D((2,2))(x)\n",
        "x=Conv2D(16,(3,3),activation='relu')(x)\n",
        "x=UpSampling2D((2,2))(x)\n",
        "decode=Conv2D(1,(3,3),activation='sigmoid',padding='same')(x)\n",
        "\n"
      ],
      "execution_count": 0,
      "outputs": []
    },
    {
      "cell_type": "code",
      "metadata": {
        "id": "Z3JsuNf_mXSR",
        "colab_type": "code",
        "colab": {}
      },
      "source": [
        "autoencoder=Model(input_img,decode) # this model maps an input to its reconstruction\n"
      ],
      "execution_count": 0,
      "outputs": []
    },
    {
      "cell_type": "code",
      "metadata": {
        "id": "mVkKI7wwmXSV",
        "colab_type": "code",
        "colab": {}
      },
      "source": [
        "autoencoder.compile(optimizer='adadelta',loss='binary_crossentropy')"
      ],
      "execution_count": 0,
      "outputs": []
    },
    {
      "cell_type": "code",
      "metadata": {
        "id": "LbWitoWHiP9T",
        "colab_type": "code",
        "colab": {
          "base_uri": "https://localhost:8080/",
          "height": 73
        },
        "outputId": "6577d541-c499-4a7d-9f78-9524f2f0ba65"
      },
      "source": [
        "from tensorflow.keras.datasets import mnist\n",
        "import numpy as np\n",
        "(x_train,_),(x_test,_)=mnist.load_data()\n",
        "x_train=x_train.astype('float')/255\n",
        "x_test=x_test.astype('float')/255\n",
        "x_train=np.reshape(x_train,(len(x_train),28,28,1))\n",
        "x_test=np.reshape(x_test,(len(x_test),28,28,1))"
      ],
      "execution_count": 14,
      "outputs": [
        {
          "output_type": "stream",
          "text": [
            "Downloading data from https://storage.googleapis.com/tensorflow/tf-keras-datasets/mnist.npz\n",
            "11493376/11490434 [==============================] - 0s 0us/step\n"
          ],
          "name": "stdout"
        }
      ]
    },
    {
      "cell_type": "code",
      "metadata": {
        "id": "9YQ7yCxPkj1F",
        "colab_type": "code",
        "colab": {
          "base_uri": "https://localhost:8080/",
          "height": 793
        },
        "outputId": "e7cd9970-0272-4f19-d493-b6a45d0945df"
      },
      "source": [
        "from tensorflow.keras.callbacks import TensorBoard\n",
        "autoencoder.fit(x_train,x_train,epochs=20,batch_size=128,shuffle=True,validation_data=(x_test,x_test),\n",
        "                callbacks=[TensorBoard(log_dir='temp/autoencoder')])"
      ],
      "execution_count": 18,
      "outputs": [
        {
          "output_type": "stream",
          "text": [
            "Train on 60000 samples, validate on 10000 samples\n",
            "Epoch 1/20\n",
            "60000/60000 [==============================] - 88s 1ms/sample - loss: 0.6885 - val_loss: 0.6864\n",
            "Epoch 2/20\n",
            "60000/60000 [==============================] - 89s 1ms/sample - loss: 0.6832 - val_loss: 0.6793\n",
            "Epoch 3/20\n",
            "60000/60000 [==============================] - 90s 1ms/sample - loss: 0.6720 - val_loss: 0.6619\n",
            "Epoch 4/20\n",
            "60000/60000 [==============================] - 89s 1ms/sample - loss: 0.6365 - val_loss: 0.5964\n",
            "Epoch 5/20\n",
            "60000/60000 [==============================] - 89s 1ms/sample - loss: 0.5357 - val_loss: 0.5005\n",
            "Epoch 6/20\n",
            "60000/60000 [==============================] - 89s 1ms/sample - loss: 0.4900 - val_loss: 0.4877\n",
            "Epoch 7/20\n",
            "60000/60000 [==============================] - 89s 1ms/sample - loss: 0.4787 - val_loss: 0.4769\n",
            "Epoch 8/20\n",
            "60000/60000 [==============================] - 88s 1ms/sample - loss: 0.4681 - val_loss: 0.4661\n",
            "Epoch 9/20\n",
            "60000/60000 [==============================] - 88s 1ms/sample - loss: 0.4573 - val_loss: 0.4551\n",
            "Epoch 10/20\n",
            "60000/60000 [==============================] - 89s 1ms/sample - loss: 0.4461 - val_loss: 0.4433\n",
            "Epoch 11/20\n",
            "60000/60000 [==============================] - 89s 1ms/sample - loss: 0.4337 - val_loss: 0.4299\n",
            "Epoch 12/20\n",
            "60000/60000 [==============================] - 89s 1ms/sample - loss: 0.4194 - val_loss: 0.4141\n",
            "Epoch 13/20\n",
            "60000/60000 [==============================] - 89s 1ms/sample - loss: 0.4021 - val_loss: 0.3947\n",
            "Epoch 14/20\n",
            "60000/60000 [==============================] - 89s 1ms/sample - loss: 0.3815 - val_loss: 0.3727\n",
            "Epoch 15/20\n",
            "60000/60000 [==============================] - 89s 1ms/sample - loss: 0.3599 - val_loss: 0.3515\n",
            "Epoch 16/20\n",
            "60000/60000 [==============================] - 89s 1ms/sample - loss: 0.3398 - val_loss: 0.3322\n",
            "Epoch 17/20\n",
            "60000/60000 [==============================] - 90s 1ms/sample - loss: 0.3215 - val_loss: 0.3148\n",
            "Epoch 18/20\n",
            "60000/60000 [==============================] - 90s 1ms/sample - loss: 0.3053 - val_loss: 0.2996\n",
            "Epoch 19/20\n",
            "60000/60000 [==============================] - 90s 1ms/sample - loss: 0.2914 - val_loss: 0.2868\n",
            "Epoch 20/20\n",
            "60000/60000 [==============================] - 89s 1ms/sample - loss: 0.2799 - val_loss: 0.2763\n"
          ],
          "name": "stdout"
        },
        {
          "output_type": "execute_result",
          "data": {
            "text/plain": [
              "<tensorflow.python.keras.callbacks.History at 0x7fde0f5f9630>"
            ]
          },
          "metadata": {
            "tags": []
          },
          "execution_count": 18
        }
      ]
    },
    {
      "cell_type": "code",
      "metadata": {
        "id": "B2jrd4WGwI3F",
        "colab_type": "code",
        "colab": {
          "base_uri": "https://localhost:8080/",
          "height": 665
        },
        "outputId": "fcaa2469-99b7-40bc-c9f1-3718eef1ac87"
      },
      "source": [
        "autoencoder.summary()\n",
        "#encoder.summary()\n",
        "#decoder.summary()"
      ],
      "execution_count": 32,
      "outputs": [
        {
          "output_type": "stream",
          "text": [
            "Model: \"model\"\n",
            "_________________________________________________________________\n",
            "Layer (type)                 Output Shape              Param #   \n",
            "=================================================================\n",
            "input_1 (InputLayer)         [(None, 28, 28, 1)]       0         \n",
            "_________________________________________________________________\n",
            "conv2d_6 (Conv2D)            (None, 28, 28, 16)        160       \n",
            "_________________________________________________________________\n",
            "max_pooling2d_6 (MaxPooling2 (None, 14, 14, 16)        0         \n",
            "_________________________________________________________________\n",
            "conv2d_7 (Conv2D)            (None, 14, 14, 8)         1160      \n",
            "_________________________________________________________________\n",
            "max_pooling2d_7 (MaxPooling2 (None, 7, 7, 8)           0         \n",
            "_________________________________________________________________\n",
            "conv2d_8 (Conv2D)            (None, 7, 7, 8)           584       \n",
            "_________________________________________________________________\n",
            "max_pooling2d_8 (MaxPooling2 (None, 4, 4, 8)           0         \n",
            "_________________________________________________________________\n",
            "conv2d_11 (Conv2D)           (None, 4, 4, 8)           584       \n",
            "_________________________________________________________________\n",
            "up_sampling2d_2 (UpSampling2 (None, 8, 8, 8)           0         \n",
            "_________________________________________________________________\n",
            "conv2d_12 (Conv2D)           (None, 8, 8, 8)           584       \n",
            "_________________________________________________________________\n",
            "up_sampling2d_3 (UpSampling2 (None, 16, 16, 8)         0         \n",
            "_________________________________________________________________\n",
            "conv2d_13 (Conv2D)           (None, 14, 14, 16)        1168      \n",
            "_________________________________________________________________\n",
            "up_sampling2d_4 (UpSampling2 (None, 28, 28, 16)        0         \n",
            "_________________________________________________________________\n",
            "conv2d_14 (Conv2D)           (None, 28, 28, 1)         145       \n",
            "=================================================================\n",
            "Total params: 4,385\n",
            "Trainable params: 4,385\n",
            "Non-trainable params: 0\n",
            "_________________________________________________________________\n"
          ],
          "name": "stdout"
        }
      ]
    },
    {
      "cell_type": "code",
      "metadata": {
        "id": "eFxTL94xkwFg",
        "colab_type": "code",
        "colab": {
          "base_uri": "https://localhost:8080/",
          "height": 268
        },
        "outputId": "2c28c246-8f5d-4967-83a3-a0e227307809"
      },
      "source": [
        "import matplotlib.pyplot as plt\n",
        "\n",
        "decoded_imgs = autoencoder.predict(x_test) # decode_image or reconstruction image\n",
        "\n",
        "n = 10\n",
        "plt.figure(figsize=(20, 4))\n",
        "for i in range(1,n):\n",
        "    # display original\n",
        "    ax = plt.subplot(2, n, i)\n",
        "    plt.imshow(x_test[i].reshape(28, 28))\n",
        "    plt.gray()\n",
        "    ax.get_xaxis().set_visible(False)\n",
        "    ax.get_yaxis().set_visible(False)\n",
        "\n",
        "    # display reconstruction\n",
        "    ax = plt.subplot(2, n, i + n)\n",
        "    plt.imshow(decoded_imgs[i].reshape(28, 28))\n",
        "    plt.gray()\n",
        "    ax.get_xaxis().set_visible(False)\n",
        "    ax.get_yaxis().set_visible(False)\n",
        "plt.show()"
      ],
      "execution_count": 23,
      "outputs": [
        {
          "output_type": "display_data",
          "data": {
            "image/png": "[encoded data removed]",
            "text/plain": [
              "<Figure size 1440x288 with 18 Axes>"
            ]
          },
          "metadata": {
            "tags": []
          }
        }
      ]
    },
    {
      "cell_type": "markdown",
      "metadata": {
        "id": "vecPCziinxSI",
        "colab_type": "text"
      },
      "source": [
        "* We can also have a look at the 128-dimensional encoded representations. These representations are 8x4x4, so we reshape them to 4x32 in order to be able to display them as grayscale images."
      ]
    },
    {
      "cell_type": "code",
      "metadata": {
        "id": "CC-I9kBrnXAF",
        "colab_type": "code",
        "colab": {
          "base_uri": "https://localhost:8080/",
          "height": 489
        },
        "outputId": "6d3ff48e-2f6e-4492-c054-5eb72ce951f9"
      },
      "source": [
        "encoded_img=encoder(input_img,encoded)\n",
        "encoded_imgs=encoder.predict(x_test)\n",
        "\n",
        "\n",
        "n = 10\n",
        "plt.figure(figsize=(20, 8))\n",
        "for i in range(1,n):\n",
        "    ax = plt.subplot(1, n, i)\n",
        "    plt.imshow(encoded_imgs[i].reshape(4, 4 * 8).T)\n",
        "    plt.gray()\n",
        "    ax.get_xaxis().set_visible(False)\n",
        "    ax.get_yaxis().set_visible(False)\n",
        "plt.show()"
      ],
      "execution_count": 39,
      "outputs": [
        {
          "output_type": "display_data",
          "data": {
            "image/png": "[encoded data removed]",
            "text/plain": [
              "<Figure size 1440x576 with 9 Axes>"
            ]
          },
          "metadata": {
            "tags": []
          }
        }
      ]
    },
    {
      "cell_type": "markdown",
      "metadata": {
        "id": "Q5F-r2Lu0K__",
        "colab_type": "text"
      },
      "source": [
        "# Application to image denoising\n",
        "* Let's put our convolutional autoencoder to work on an image denoising problem. It's simple: we will train the autoencoder to map noisy digits images to clean digits images.\n",
        "* Here's how we will generate synthetic noisy digits: we just apply a gaussian noise matrix and clip the images between 0 and 1.\n"
      ]
    },
    {
      "cell_type": "code",
      "metadata": {
        "id": "EQnw-r-ttZ5p",
        "colab_type": "code",
        "colab": {}
      },
      "source": [
        "from tensorflow.keras.datasets import mnist"
      ],
      "execution_count": 0,
      "outputs": []
    },
    {
      "cell_type": "code",
      "metadata": {
        "id": "Ug7wzEPC0eEe",
        "colab_type": "code",
        "colab": {}
      },
      "source": [
        "(x_train,_),(x_test,_)=mnist.load_data()"
      ],
      "execution_count": 0,
      "outputs": []
    },
    {
      "cell_type": "code",
      "metadata": {
        "id": "9y98SeUA0og9",
        "colab_type": "code",
        "colab": {
          "base_uri": "https://localhost:8080/",
          "height": 1000
        },
        "outputId": "95f9f594-2572-4863-aff7-b49e18d57aaa"
      },
      "source": [
        "print(x_train.shape)\n",
        "print(x_train[0])\n",
        "\n"
      ],
      "execution_count": 50,
      "outputs": [
        {
          "output_type": "stream",
          "text": [
            "(60000, 28, 28)\n",
            "[[  0   0   0   0   0   0   0   0   0   0   0   0   0   0   0   0   0   0\n",
            "    0   0   0   0   0   0   0   0   0   0]\n",
            " [  0   0   0   0   0   0   0   0   0   0   0   0   0   0   0   0   0   0\n",
            "    0   0   0   0   0   0   0   0   0   0]\n",
            " [  0   0   0   0   0   0   0   0   0   0   0   0   0   0   0   0   0   0\n",
            "    0   0   0   0   0   0   0   0   0   0]\n",
            " [  0   0   0   0   0   0   0   0   0   0   0   0   0   0   0   0   0   0\n",
            "    0   0   0   0   0   0   0   0   0   0]\n",
            " [  0   0   0   0   0   0   0   0   0   0   0   0   0   0   0   0   0   0\n",
            "    0   0   0   0   0   0   0   0   0   0]\n",
            " [  0   0   0   0   0   0   0   0   0   0   0   0   3  18  18  18 126 136\n",
            "  175  26 166 255 247 127   0   0   0   0]\n",
            " [  0   0   0   0   0   0   0   0  30  36  94 154 170 253 253 253 253 253\n",
            "  225 172 253 242 195  64   0   0   0   0]\n",
            " [  0   0   0   0   0   0   0  49 238 253 253 253 253 253 253 253 253 251\n",
            "   93  82  82  56  39   0   0   0   0   0]\n",
            " [  0   0   0   0   0   0   0  18 219 253 253 253 253 253 198 182 247 241\n",
            "    0   0   0   0   0   0   0   0   0   0]\n",
            " [  0   0   0   0   0   0   0   0  80 156 107 253 253 205  11   0  43 154\n",
            "    0   0   0   0   0   0   0   0   0   0]\n",
            " [  0   0   0   0   0   0   0   0   0  14   1 154 253  90   0   0   0   0\n",
            "    0   0   0   0   0   0   0   0   0   0]\n",
            " [  0   0   0   0   0   0   0   0   0   0   0 139 253 190   2   0   0   0\n",
            "    0   0   0   0   0   0   0   0   0   0]\n",
            " [  0   0   0   0   0   0   0   0   0   0   0  11 190 253  70   0   0   0\n",
            "    0   0   0   0   0   0   0   0   0   0]\n",
            " [  0   0   0   0   0   0   0   0   0   0   0   0  35 241 225 160 108   1\n",
            "    0   0   0   0   0   0   0   0   0   0]\n",
            " [  0   0   0   0   0   0   0   0   0   0   0   0   0  81 240 253 253 119\n",
            "   25   0   0   0   0   0   0   0   0   0]\n",
            " [  0   0   0   0   0   0   0   0   0   0   0   0   0   0  45 186 253 253\n",
            "  150  27   0   0   0   0   0   0   0   0]\n",
            " [  0   0   0   0   0   0   0   0   0   0   0   0   0   0   0  16  93 252\n",
            "  253 187   0   0   0   0   0   0   0   0]\n",
            " [  0   0   0   0   0   0   0   0   0   0   0   0   0   0   0   0   0 249\n",
            "  253 249  64   0   0   0   0   0   0   0]\n",
            " [  0   0   0   0   0   0   0   0   0   0   0   0   0   0  46 130 183 253\n",
            "  253 207   2   0   0   0   0   0   0   0]\n",
            " [  0   0   0   0   0   0   0   0   0   0   0   0  39 148 229 253 253 253\n",
            "  250 182   0   0   0   0   0   0   0   0]\n",
            " [  0   0   0   0   0   0   0   0   0   0  24 114 221 253 253 253 253 201\n",
            "   78   0   0   0   0   0   0   0   0   0]\n",
            " [  0   0   0   0   0   0   0   0  23  66 213 253 253 253 253 198  81   2\n",
            "    0   0   0   0   0   0   0   0   0   0]\n",
            " [  0   0   0   0   0   0  18 171 219 253 253 253 253 195  80   9   0   0\n",
            "    0   0   0   0   0   0   0   0   0   0]\n",
            " [  0   0   0   0  55 172 226 253 253 253 253 244 133  11   0   0   0   0\n",
            "    0   0   0   0   0   0   0   0   0   0]\n",
            " [  0   0   0   0 136 253 253 253 212 135 132  16   0   0   0   0   0   0\n",
            "    0   0   0   0   0   0   0   0   0   0]\n",
            " [  0   0   0   0   0   0   0   0   0   0   0   0   0   0   0   0   0   0\n",
            "    0   0   0   0   0   0   0   0   0   0]\n",
            " [  0   0   0   0   0   0   0   0   0   0   0   0   0   0   0   0   0   0\n",
            "    0   0   0   0   0   0   0   0   0   0]\n",
            " [  0   0   0   0   0   0   0   0   0   0   0   0   0   0   0   0   0   0\n",
            "    0   0   0   0   0   0   0   0   0   0]]\n"
          ],
          "name": "stdout"
        }
      ]
    },
    {
      "cell_type": "code",
      "metadata": {
        "id": "cabNTL2C0v3r",
        "colab_type": "code",
        "colab": {}
      },
      "source": [
        "x_train=x_train.astype('float32')/255\n",
        "x_test=x_test.astype('float32')/255\n"
      ],
      "execution_count": 0,
      "outputs": []
    },
    {
      "cell_type": "code",
      "metadata": {
        "id": "EAiOISOP1FaE",
        "colab_type": "code",
        "colab": {
          "base_uri": "https://localhost:8080/",
          "height": 1000
        },
        "outputId": "1d088238-2ef0-431c-b495-8e5ced810a69"
      },
      "source": [
        "print(x_train[0])"
      ],
      "execution_count": 53,
      "outputs": [
        {
          "output_type": "stream",
          "text": [
            "[[0.         0.         0.         0.         0.         0.\n",
            "  0.         0.         0.         0.         0.         0.\n",
            "  0.         0.         0.         0.         0.         0.\n",
            "  0.         0.         0.         0.         0.         0.\n",
            "  0.         0.         0.         0.        ]\n",
            " [0.         0.         0.         0.         0.         0.\n",
            "  0.         0.         0.         0.         0.         0.\n",
            "  0.         0.         0.         0.         0.         0.\n",
            "  0.         0.         0.         0.         0.         0.\n",
            "  0.         0.         0.         0.        ]\n",
            " [0.         0.         0.         0.         0.         0.\n",
            "  0.         0.         0.         0.         0.         0.\n",
            "  0.         0.         0.         0.         0.         0.\n",
            "  0.         0.         0.         0.         0.         0.\n",
            "  0.         0.         0.         0.        ]\n",
            " [0.         0.         0.         0.         0.         0.\n",
            "  0.         0.         0.         0.         0.         0.\n",
            "  0.         0.         0.         0.         0.         0.\n",
            "  0.         0.         0.         0.         0.         0.\n",
            "  0.         0.         0.         0.        ]\n",
            " [0.         0.         0.         0.         0.         0.\n",
            "  0.         0.         0.         0.         0.         0.\n",
            "  0.         0.         0.         0.         0.         0.\n",
            "  0.         0.         0.         0.         0.         0.\n",
            "  0.         0.         0.         0.        ]\n",
            " [0.         0.         0.         0.         0.         0.\n",
            "  0.         0.         0.         0.         0.         0.\n",
            "  0.01176471 0.07058824 0.07058824 0.07058824 0.49411765 0.53333336\n",
            "  0.6862745  0.10196079 0.6509804  1.         0.96862745 0.49803922\n",
            "  0.         0.         0.         0.        ]\n",
            " [0.         0.         0.         0.         0.         0.\n",
            "  0.         0.         0.11764706 0.14117648 0.36862746 0.6039216\n",
            "  0.6666667  0.99215686 0.99215686 0.99215686 0.99215686 0.99215686\n",
            "  0.88235295 0.6745098  0.99215686 0.9490196  0.7647059  0.2509804\n",
            "  0.         0.         0.         0.        ]\n",
            " [0.         0.         0.         0.         0.         0.\n",
            "  0.         0.19215687 0.93333334 0.99215686 0.99215686 0.99215686\n",
            "  0.99215686 0.99215686 0.99215686 0.99215686 0.99215686 0.9843137\n",
            "  0.3647059  0.32156864 0.32156864 0.21960784 0.15294118 0.\n",
            "  0.         0.         0.         0.        ]\n",
            " [0.         0.         0.         0.         0.         0.\n",
            "  0.         0.07058824 0.85882354 0.99215686 0.99215686 0.99215686\n",
            "  0.99215686 0.99215686 0.7764706  0.7137255  0.96862745 0.94509804\n",
            "  0.         0.         0.         0.         0.         0.\n",
            "  0.         0.         0.         0.        ]\n",
            " [0.         0.         0.         0.         0.         0.\n",
            "  0.         0.         0.3137255  0.6117647  0.41960785 0.99215686\n",
            "  0.99215686 0.8039216  0.04313726 0.         0.16862746 0.6039216\n",
            "  0.         0.         0.         0.         0.         0.\n",
            "  0.         0.         0.         0.        ]\n",
            " [0.         0.         0.         0.         0.         0.\n",
            "  0.         0.         0.         0.05490196 0.00392157 0.6039216\n",
            "  0.99215686 0.3529412  0.         0.         0.         0.\n",
            "  0.         0.         0.         0.         0.         0.\n",
            "  0.         0.         0.         0.        ]\n",
            " [0.         0.         0.         0.         0.         0.\n",
            "  0.         0.         0.         0.         0.         0.54509807\n",
            "  0.99215686 0.74509805 0.00784314 0.         0.         0.\n",
            "  0.         0.         0.         0.         0.         0.\n",
            "  0.         0.         0.         0.        ]\n",
            " [0.         0.         0.         0.         0.         0.\n",
            "  0.         0.         0.         0.         0.         0.04313726\n",
            "  0.74509805 0.99215686 0.27450982 0.         0.         0.\n",
            "  0.         0.         0.         0.         0.         0.\n",
            "  0.         0.         0.         0.        ]\n",
            " [0.         0.         0.         0.         0.         0.\n",
            "  0.         0.         0.         0.         0.         0.\n",
            "  0.13725491 0.94509804 0.88235295 0.627451   0.42352942 0.00392157\n",
            "  0.         0.         0.         0.         0.         0.\n",
            "  0.         0.         0.         0.        ]\n",
            " [0.         0.         0.         0.         0.         0.\n",
            "  0.         0.         0.         0.         0.         0.\n",
            "  0.         0.31764707 0.9411765  0.99215686 0.99215686 0.46666667\n",
            "  0.09803922 0.         0.         0.         0.         0.\n",
            "  0.         0.         0.         0.        ]\n",
            " [0.         0.         0.         0.         0.         0.\n",
            "  0.         0.         0.         0.         0.         0.\n",
            "  0.         0.         0.1764706  0.7294118  0.99215686 0.99215686\n",
            "  0.5882353  0.10588235 0.         0.         0.         0.\n",
            "  0.         0.         0.         0.        ]\n",
            " [0.         0.         0.         0.         0.         0.\n",
            "  0.         0.         0.         0.         0.         0.\n",
            "  0.         0.         0.         0.0627451  0.3647059  0.9882353\n",
            "  0.99215686 0.73333335 0.         0.         0.         0.\n",
            "  0.         0.         0.         0.        ]\n",
            " [0.         0.         0.         0.         0.         0.\n",
            "  0.         0.         0.         0.         0.         0.\n",
            "  0.         0.         0.         0.         0.         0.9764706\n",
            "  0.99215686 0.9764706  0.2509804  0.         0.         0.\n",
            "  0.         0.         0.         0.        ]\n",
            " [0.         0.         0.         0.         0.         0.\n",
            "  0.         0.         0.         0.         0.         0.\n",
            "  0.         0.         0.18039216 0.50980395 0.7176471  0.99215686\n",
            "  0.99215686 0.8117647  0.00784314 0.         0.         0.\n",
            "  0.         0.         0.         0.        ]\n",
            " [0.         0.         0.         0.         0.         0.\n",
            "  0.         0.         0.         0.         0.         0.\n",
            "  0.15294118 0.5803922  0.8980392  0.99215686 0.99215686 0.99215686\n",
            "  0.98039216 0.7137255  0.         0.         0.         0.\n",
            "  0.         0.         0.         0.        ]\n",
            " [0.         0.         0.         0.         0.         0.\n",
            "  0.         0.         0.         0.         0.09411765 0.44705883\n",
            "  0.8666667  0.99215686 0.99215686 0.99215686 0.99215686 0.7882353\n",
            "  0.30588236 0.         0.         0.         0.         0.\n",
            "  0.         0.         0.         0.        ]\n",
            " [0.         0.         0.         0.         0.         0.\n",
            "  0.         0.         0.09019608 0.25882354 0.8352941  0.99215686\n",
            "  0.99215686 0.99215686 0.99215686 0.7764706  0.31764707 0.00784314\n",
            "  0.         0.         0.         0.         0.         0.\n",
            "  0.         0.         0.         0.        ]\n",
            " [0.         0.         0.         0.         0.         0.\n",
            "  0.07058824 0.67058825 0.85882354 0.99215686 0.99215686 0.99215686\n",
            "  0.99215686 0.7647059  0.3137255  0.03529412 0.         0.\n",
            "  0.         0.         0.         0.         0.         0.\n",
            "  0.         0.         0.         0.        ]\n",
            " [0.         0.         0.         0.         0.21568628 0.6745098\n",
            "  0.8862745  0.99215686 0.99215686 0.99215686 0.99215686 0.95686275\n",
            "  0.52156866 0.04313726 0.         0.         0.         0.\n",
            "  0.         0.         0.         0.         0.         0.\n",
            "  0.         0.         0.         0.        ]\n",
            " [0.         0.         0.         0.         0.53333336 0.99215686\n",
            "  0.99215686 0.99215686 0.83137256 0.5294118  0.5176471  0.0627451\n",
            "  0.         0.         0.         0.         0.         0.\n",
            "  0.         0.         0.         0.         0.         0.\n",
            "  0.         0.         0.         0.        ]\n",
            " [0.         0.         0.         0.         0.         0.\n",
            "  0.         0.         0.         0.         0.         0.\n",
            "  0.         0.         0.         0.         0.         0.\n",
            "  0.         0.         0.         0.         0.         0.\n",
            "  0.         0.         0.         0.        ]\n",
            " [0.         0.         0.         0.         0.         0.\n",
            "  0.         0.         0.         0.         0.         0.\n",
            "  0.         0.         0.         0.         0.         0.\n",
            "  0.         0.         0.         0.         0.         0.\n",
            "  0.         0.         0.         0.        ]\n",
            " [0.         0.         0.         0.         0.         0.\n",
            "  0.         0.         0.         0.         0.         0.\n",
            "  0.         0.         0.         0.         0.         0.\n",
            "  0.         0.         0.         0.         0.         0.\n",
            "  0.         0.         0.         0.        ]]\n"
          ],
          "name": "stdout"
        }
      ]
    },
    {
      "cell_type": "code",
      "metadata": {
        "id": "jELjxPIY1Hh1",
        "colab_type": "code",
        "colab": {}
      },
      "source": [
        "x_train=np.reshape(x_train,(len(x_train),28,28,1))\n",
        "x_test=np.reshape(x_test,(len(x_test),28,28,1))"
      ],
      "execution_count": 0,
      "outputs": []
    },
    {
      "cell_type": "code",
      "metadata": {
        "id": "Dkyx0iKm2FTM",
        "colab_type": "code",
        "colab": {}
      },
      "source": [
        "print(x_train.shape)\n",
        "print(x_train[0])"
      ],
      "execution_count": 0,
      "outputs": []
    },
    {
      "cell_type": "code",
      "metadata": {
        "id": "49qfq_fq2nnl",
        "colab_type": "code",
        "colab": {}
      },
      "source": [
        "noise_factor=0.5\n",
        "x_train_noisy=x_train + noise_factor * np.random.normal(loc=0.0,scale=1.0,size=x_train.shape)\n",
        "x_test_noisy=x_test+noise_factor*np.random.normal(loc=0.0,scale=1.0,size=x_test.shape)"
      ],
      "execution_count": 0,
      "outputs": []
    },
    {
      "cell_type": "code",
      "metadata": {
        "id": "vNppPgnR4dAb",
        "colab_type": "code",
        "colab": {}
      },
      "source": [
        "x_train_noisy=np.clip(x_train_noisy,0,1)\n",
        "x_test_noisy=np.clip(x_test_noisy,0,1)"
      ],
      "execution_count": 0,
      "outputs": []
    },
    {
      "cell_type": "code",
      "metadata": {
        "id": "ifRsUumI-8sG",
        "colab_type": "code",
        "colab": {
          "base_uri": "https://localhost:8080/",
          "height": 149
        },
        "outputId": "95862dee-e9a8-411a-fb37-7f5fcc2cadfb"
      },
      "source": [
        "n = 10\n",
        "plt.figure(figsize=(20, 2))\n",
        "for i in range(1,n):\n",
        "    ax = plt.subplot(1, n, i)\n",
        "    plt.imshow(x_test_noisy[i].reshape(28, 28))\n",
        "    plt.gray()\n",
        "    ax.get_xaxis().set_visible(False)\n",
        "    ax.get_yaxis().set_visible(False)\n",
        "plt.show()"
      ],
      "execution_count": 61,
      "outputs": [
        {
          "output_type": "display_data",
          "data": {
            "image/png": "[encoded data removed]",
            "text/plain": [
              "<Figure size 1440x144 with 9 Axes>"
            ]
          },
          "metadata": {
            "tags": []
          }
        }
      ]
    },
    {
      "cell_type": "code",
      "metadata": {
        "id": "Gw7JjELi_Ayr",
        "colab_type": "code",
        "colab": {}
      },
      "source": [
        "input_img = Input(shape=(28, 28, 1))  # adapt this if using `channels_first` image data format\n",
        "\n",
        "x = Conv2D(32, (3, 3), activation='relu', padding='same')(input_img)\n",
        "x = MaxPooling2D((2, 2), padding='same')(x)\n",
        "x = Conv2D(32, (3, 3), activation='relu', padding='same')(x)\n",
        "encoded = MaxPooling2D((2, 2), padding='same')(x)\n",
        "\n",
        "# at this point the representation is (7, 7, 32)\n",
        "\n",
        "x = Conv2D(32, (3, 3), activation='relu', padding='same')(encoded)\n",
        "x = UpSampling2D((2, 2))(x)\n",
        "x = Conv2D(32, (3, 3), activation='relu', padding='same')(x)\n",
        "x = UpSampling2D((2, 2))(x)\n",
        "decoded = Conv2D(1, (3, 3), activation='sigmoid', padding='same')(x)\n",
        "\n",
        "autoencoder = Model(input_img, decoded)\n",
        "autoencoder.compile(optimizer='adadelta', loss='binary_crossentropy')"
      ],
      "execution_count": 0,
      "outputs": []
    },
    {
      "cell_type": "code",
      "metadata": {
        "id": "66b-C_jq_O9R",
        "colab_type": "code",
        "colab": {
          "base_uri": "https://localhost:8080/",
          "height": 253
        },
        "outputId": "d00f1754-a9cb-4c51-a58b-2add7990459e"
      },
      "source": [
        "autoencoder.fit(x_train_noisy, x_train,\n",
        "                epochs=5,\n",
        "                batch_size=128,\n",
        "                shuffle=True,\n",
        "                validation_data=(x_test_noisy, x_test),\n",
        "                callbacks=[TensorBoard(log_dir='/tmp/tb', histogram_freq=0, write_graph=False)])"
      ],
      "execution_count": 64,
      "outputs": [
        {
          "output_type": "stream",
          "text": [
            "Train on 60000 samples, validate on 10000 samples\n",
            "Epoch 1/5\n",
            "60000/60000 [==============================] - 169s 3ms/sample - loss: 0.7024 - val_loss: 0.6834\n",
            "Epoch 2/5\n",
            "60000/60000 [==============================] - 170s 3ms/sample - loss: 0.6618 - val_loss: 0.6364\n",
            "Epoch 3/5\n",
            "60000/60000 [==============================] - 169s 3ms/sample - loss: 0.5964 - val_loss: 0.5536\n",
            "Epoch 4/5\n",
            "60000/60000 [==============================] - 170s 3ms/sample - loss: 0.5251 - val_loss: 0.5136\n",
            "Epoch 5/5\n",
            "60000/60000 [==============================] - 168s 3ms/sample - loss: 0.5047 - val_loss: 0.5036\n"
          ],
          "name": "stdout"
        },
        {
          "output_type": "execute_result",
          "data": {
            "text/plain": [
              "<tensorflow.python.keras.callbacks.History at 0x7fde0b3904a8>"
            ]
          },
          "metadata": {
            "tags": []
          },
          "execution_count": 64
        }
      ]
    },
    {
      "cell_type": "code",
      "metadata": {
        "id": "99OjejIg_S2p",
        "colab_type": "code",
        "colab": {}
      },
      "source": [
        ""
      ],
      "execution_count": 0,
      "outputs": []
    }
  ]
}