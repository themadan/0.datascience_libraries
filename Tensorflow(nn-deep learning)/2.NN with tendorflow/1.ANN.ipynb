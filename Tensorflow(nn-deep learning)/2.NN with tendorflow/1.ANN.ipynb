{
  "nbformat": 4,
  "nbformat_minor": 0,
  "metadata": {
    "colab": {
      "name": "Untitled1.ipynb",
      "provenance": []
    },
    "kernelspec": {
      "name": "python3",
      "display_name": "Python 3"
    }
  },
  "cells": [
    {
      "cell_type": "markdown",
      "metadata": {
        "id": "_FMhZzdqeSWF",
        "colab_type": "text"
      },
      "source": [
        "# 1.ANN"
      ]
    },
    {
      "cell_type": "markdown",
      "metadata": {
        "id": "veXGFJQ83Vsk",
        "colab_type": "text"
      },
      "source": [
        "Tensorflow 2.0.0 ko documentation ramro sanga deko xaina so\n",
        " * [module,class,function,other_mamber](https://www.tensorflow.org/api_docs/python/tf?version=nightly)\n",
        " * [all symbols in tensorflow ](https://www.tensorflow.org/api_docs/python/)"
      ]
    },
    {
      "cell_type": "code",
      "metadata": {
        "id": "XE-St3P0wfFS",
        "colab_type": "code",
        "colab": {
          "base_uri": "https://localhost:8080/",
          "height": 1000
        },
        "outputId": "ce7d1718-573e-4449-d190-4439e536398e"
      },
      "source": [
        "pip install tensorflow==2.0.0"
      ],
      "execution_count": 5,
      "outputs": [
        {
          "output_type": "stream",
          "text": [
            "Collecting tensorflow==2.0.0\n",
            "\u001b[?25l  Downloading https://files.pythonhosted.org/packages/46/0f/7bd55361168bb32796b360ad15a25de6966c9c1beb58a8e30c01c8279862/tensorflow-2.0.0-cp36-cp36m-manylinux2010_x86_64.whl (86.3MB)\n",
            "\u001b[K     |████████████████████████████████| 86.3MB 72kB/s \n",
            "\u001b[?25hRequirement already satisfied: google-pasta>=0.1.6 in /usr/local/lib/python3.6/dist-packages (from tensorflow==2.0.0) (0.1.8)\n",
            "Requirement already satisfied: astor>=0.6.0 in /usr/local/lib/python3.6/dist-packages (from tensorflow==2.0.0) (0.8.1)\n",
            "Requirement already satisfied: numpy<2.0,>=1.16.0 in /usr/local/lib/python3.6/dist-packages (from tensorflow==2.0.0) (1.17.5)\n",
            "Requirement already satisfied: keras-applications>=1.0.8 in /usr/local/lib/python3.6/dist-packages (from tensorflow==2.0.0) (1.0.8)\n",
            "Requirement already satisfied: six>=1.10.0 in /usr/local/lib/python3.6/dist-packages (from tensorflow==2.0.0) (1.12.0)\n",
            "Requirement already satisfied: opt-einsum>=2.3.2 in /usr/local/lib/python3.6/dist-packages (from tensorflow==2.0.0) (3.1.0)\n",
            "Requirement already satisfied: keras-preprocessing>=1.0.5 in /usr/local/lib/python3.6/dist-packages (from tensorflow==2.0.0) (1.1.0)\n",
            "Collecting tensorflow-estimator<2.1.0,>=2.0.0\n",
            "\u001b[?25l  Downloading https://files.pythonhosted.org/packages/fc/08/8b927337b7019c374719145d1dceba21a8bb909b93b1ad6f8fb7d22c1ca1/tensorflow_estimator-2.0.1-py2.py3-none-any.whl (449kB)\n",
            "\u001b[K     |████████████████████████████████| 450kB 41.8MB/s \n",
            "\u001b[?25hRequirement already satisfied: gast==0.2.2 in /usr/local/lib/python3.6/dist-packages (from tensorflow==2.0.0) (0.2.2)\n",
            "Requirement already satisfied: protobuf>=3.6.1 in /usr/local/lib/python3.6/dist-packages (from tensorflow==2.0.0) (3.10.0)\n",
            "Requirement already satisfied: wrapt>=1.11.1 in /usr/local/lib/python3.6/dist-packages (from tensorflow==2.0.0) (1.11.2)\n",
            "Requirement already satisfied: wheel>=0.26 in /usr/local/lib/python3.6/dist-packages (from tensorflow==2.0.0) (0.34.2)\n",
            "Requirement already satisfied: grpcio>=1.8.6 in /usr/local/lib/python3.6/dist-packages (from tensorflow==2.0.0) (1.27.1)\n",
            "Requirement already satisfied: termcolor>=1.1.0 in /usr/local/lib/python3.6/dist-packages (from tensorflow==2.0.0) (1.1.0)\n",
            "Collecting tensorboard<2.1.0,>=2.0.0\n",
            "\u001b[?25l  Downloading https://files.pythonhosted.org/packages/76/54/99b9d5d52d5cb732f099baaaf7740403e83fe6b0cedde940fabd2b13d75a/tensorboard-2.0.2-py3-none-any.whl (3.8MB)\n",
            "\u001b[K     |████████████████████████████████| 3.8MB 47.2MB/s \n",
            "\u001b[?25hRequirement already satisfied: absl-py>=0.7.0 in /usr/local/lib/python3.6/dist-packages (from tensorflow==2.0.0) (0.9.0)\n",
            "Requirement already satisfied: h5py in /usr/local/lib/python3.6/dist-packages (from keras-applications>=1.0.8->tensorflow==2.0.0) (2.8.0)\n",
            "Requirement already satisfied: setuptools in /usr/local/lib/python3.6/dist-packages (from protobuf>=3.6.1->tensorflow==2.0.0) (45.1.0)\n",
            "Requirement already satisfied: google-auth-oauthlib<0.5,>=0.4.1 in /usr/local/lib/python3.6/dist-packages (from tensorboard<2.1.0,>=2.0.0->tensorflow==2.0.0) (0.4.1)\n",
            "Requirement already satisfied: werkzeug>=0.11.15 in /usr/local/lib/python3.6/dist-packages (from tensorboard<2.1.0,>=2.0.0->tensorflow==2.0.0) (1.0.0)\n",
            "Requirement already satisfied: google-auth<2,>=1.6.3 in /usr/local/lib/python3.6/dist-packages (from tensorboard<2.1.0,>=2.0.0->tensorflow==2.0.0) (1.7.2)\n",
            "Requirement already satisfied: markdown>=2.6.8 in /usr/local/lib/python3.6/dist-packages (from tensorboard<2.1.0,>=2.0.0->tensorflow==2.0.0) (3.2.1)\n",
            "Requirement already satisfied: requests<3,>=2.21.0 in /usr/local/lib/python3.6/dist-packages (from tensorboard<2.1.0,>=2.0.0->tensorflow==2.0.0) (2.21.0)\n",
            "Requirement already satisfied: requests-oauthlib>=0.7.0 in /usr/local/lib/python3.6/dist-packages (from google-auth-oauthlib<0.5,>=0.4.1->tensorboard<2.1.0,>=2.0.0->tensorflow==2.0.0) (1.3.0)\n",
            "Requirement already satisfied: rsa<4.1,>=3.1.4 in /usr/local/lib/python3.6/dist-packages (from google-auth<2,>=1.6.3->tensorboard<2.1.0,>=2.0.0->tensorflow==2.0.0) (4.0)\n",
            "Requirement already satisfied: pyasn1-modules>=0.2.1 in /usr/local/lib/python3.6/dist-packages (from google-auth<2,>=1.6.3->tensorboard<2.1.0,>=2.0.0->tensorflow==2.0.0) (0.2.8)\n",
            "Requirement already satisfied: cachetools<3.2,>=2.0.0 in /usr/local/lib/python3.6/dist-packages (from google-auth<2,>=1.6.3->tensorboard<2.1.0,>=2.0.0->tensorflow==2.0.0) (3.1.1)\n",
            "Requirement already satisfied: certifi>=2017.4.17 in /usr/local/lib/python3.6/dist-packages (from requests<3,>=2.21.0->tensorboard<2.1.0,>=2.0.0->tensorflow==2.0.0) (2019.11.28)\n",
            "Requirement already satisfied: chardet<3.1.0,>=3.0.2 in /usr/local/lib/python3.6/dist-packages (from requests<3,>=2.21.0->tensorboard<2.1.0,>=2.0.0->tensorflow==2.0.0) (3.0.4)\n",
            "Requirement already satisfied: urllib3<1.25,>=1.21.1 in /usr/local/lib/python3.6/dist-packages (from requests<3,>=2.21.0->tensorboard<2.1.0,>=2.0.0->tensorflow==2.0.0) (1.24.3)\n",
            "Requirement already satisfied: idna<2.9,>=2.5 in /usr/local/lib/python3.6/dist-packages (from requests<3,>=2.21.0->tensorboard<2.1.0,>=2.0.0->tensorflow==2.0.0) (2.8)\n",
            "Requirement already satisfied: oauthlib>=3.0.0 in /usr/local/lib/python3.6/dist-packages (from requests-oauthlib>=0.7.0->google-auth-oauthlib<0.5,>=0.4.1->tensorboard<2.1.0,>=2.0.0->tensorflow==2.0.0) (3.1.0)\n",
            "Requirement already satisfied: pyasn1>=0.1.3 in /usr/local/lib/python3.6/dist-packages (from rsa<4.1,>=3.1.4->google-auth<2,>=1.6.3->tensorboard<2.1.0,>=2.0.0->tensorflow==2.0.0) (0.4.8)\n",
            "Installing collected packages: tensorflow-estimator, tensorboard, tensorflow\n",
            "  Found existing installation: tensorflow-estimator 1.15.1\n",
            "    Uninstalling tensorflow-estimator-1.15.1:\n",
            "      Successfully uninstalled tensorflow-estimator-1.15.1\n",
            "  Found existing installation: tensorboard 1.15.0\n",
            "    Uninstalling tensorboard-1.15.0:\n",
            "      Successfully uninstalled tensorboard-1.15.0\n",
            "  Found existing installation: tensorflow 1.15.0\n",
            "    Uninstalling tensorflow-1.15.0:\n",
            "      Successfully uninstalled tensorflow-1.15.0\n",
            "Successfully installed tensorboard-2.0.2 tensorflow-2.0.0 tensorflow-estimator-2.0.1\n"
          ],
          "name": "stdout"
        },
        {
          "output_type": "display_data",
          "data": {
            "application/vnd.colab-display-data+json": {
              "pip_warning": {
                "packages": [
                  "tensorboard",
                  "tensorflow",
                  "tensorflow_core",
                  "tensorflow_estimator"
                ]
              }
            }
          },
          "metadata": {
            "tags": []
          }
        }
      ]
    },
    {
      "cell_type": "code",
      "metadata": {
        "id": "NFTcS66dTQHQ",
        "colab_type": "code",
        "outputId": "ed763995-6b44-4e7e-f465-d1738fa64d81",
        "colab": {
          "base_uri": "https://localhost:8080/",
          "height": 35
        }
      },
      "source": [
        "import tensorflow as tf \n",
        "print(tf.__version__)\n",
        "import matplotlib.pyplot as plt"
      ],
      "execution_count": 1,
      "outputs": [
        {
          "output_type": "stream",
          "text": [
            "2.0.0\n"
          ],
          "name": "stdout"
        }
      ]
    },
    {
      "cell_type": "markdown",
      "metadata": {
        "id": "nF_nIJTJeXHh",
        "colab_type": "text"
      },
      "source": [
        "# A.Load and analyze the data. "
      ]
    },
    {
      "cell_type": "code",
      "metadata": {
        "id": "sa8OuvbVTx1X",
        "colab_type": "code",
        "colab": {}
      },
      "source": [
        "(x_train,y_train),(x_test,y_test)=tf.keras.datasets.fashion_mnist.load_data()"
      ],
      "execution_count": 0,
      "outputs": []
    },
    {
      "cell_type": "code",
      "metadata": {
        "id": "NwTj_HR_Ul6Q",
        "colab_type": "code",
        "outputId": "76c688c4-9bfc-44a4-8afa-4fb3c056bbb4",
        "colab": {
          "base_uri": "https://localhost:8080/",
          "height": 1000
        }
      },
      "source": [
        "print(x_train[0,:,:]) # print first sample train data"
      ],
      "execution_count": 3,
      "outputs": [
        {
          "output_type": "stream",
          "text": [
            "[[  0   0   0   0   0   0   0   0   0   0   0   0   0   0   0   0   0   0\n",
            "    0   0   0   0   0   0   0   0   0   0]\n",
            " [  0   0   0   0   0   0   0   0   0   0   0   0   0   0   0   0   0   0\n",
            "    0   0   0   0   0   0   0   0   0   0]\n",
            " [  0   0   0   0   0   0   0   0   0   0   0   0   0   0   0   0   0   0\n",
            "    0   0   0   0   0   0   0   0   0   0]\n",
            " [  0   0   0   0   0   0   0   0   0   0   0   0   1   0   0  13  73   0\n",
            "    0   1   4   0   0   0   0   1   1   0]\n",
            " [  0   0   0   0   0   0   0   0   0   0   0   0   3   0  36 136 127  62\n",
            "   54   0   0   0   1   3   4   0   0   3]\n",
            " [  0   0   0   0   0   0   0   0   0   0   0   0   6   0 102 204 176 134\n",
            "  144 123  23   0   0   0   0  12  10   0]\n",
            " [  0   0   0   0   0   0   0   0   0   0   0   0   0   0 155 236 207 178\n",
            "  107 156 161 109  64  23  77 130  72  15]\n",
            " [  0   0   0   0   0   0   0   0   0   0   0   1   0  69 207 223 218 216\n",
            "  216 163 127 121 122 146 141  88 172  66]\n",
            " [  0   0   0   0   0   0   0   0   0   1   1   1   0 200 232 232 233 229\n",
            "  223 223 215 213 164 127 123 196 229   0]\n",
            " [  0   0   0   0   0   0   0   0   0   0   0   0   0 183 225 216 223 228\n",
            "  235 227 224 222 224 221 223 245 173   0]\n",
            " [  0   0   0   0   0   0   0   0   0   0   0   0   0 193 228 218 213 198\n",
            "  180 212 210 211 213 223 220 243 202   0]\n",
            " [  0   0   0   0   0   0   0   0   0   1   3   0  12 219 220 212 218 192\n",
            "  169 227 208 218 224 212 226 197 209  52]\n",
            " [  0   0   0   0   0   0   0   0   0   0   6   0  99 244 222 220 218 203\n",
            "  198 221 215 213 222 220 245 119 167  56]\n",
            " [  0   0   0   0   0   0   0   0   0   4   0   0  55 236 228 230 228 240\n",
            "  232 213 218 223 234 217 217 209  92   0]\n",
            " [  0   0   1   4   6   7   2   0   0   0   0   0 237 226 217 223 222 219\n",
            "  222 221 216 223 229 215 218 255  77   0]\n",
            " [  0   3   0   0   0   0   0   0   0  62 145 204 228 207 213 221 218 208\n",
            "  211 218 224 223 219 215 224 244 159   0]\n",
            " [  0   0   0   0  18  44  82 107 189 228 220 222 217 226 200 205 211 230\n",
            "  224 234 176 188 250 248 233 238 215   0]\n",
            " [  0  57 187 208 224 221 224 208 204 214 208 209 200 159 245 193 206 223\n",
            "  255 255 221 234 221 211 220 232 246   0]\n",
            " [  3 202 228 224 221 211 211 214 205 205 205 220 240  80 150 255 229 221\n",
            "  188 154 191 210 204 209 222 228 225   0]\n",
            " [ 98 233 198 210 222 229 229 234 249 220 194 215 217 241  65  73 106 117\n",
            "  168 219 221 215 217 223 223 224 229  29]\n",
            " [ 75 204 212 204 193 205 211 225 216 185 197 206 198 213 240 195 227 245\n",
            "  239 223 218 212 209 222 220 221 230  67]\n",
            " [ 48 203 183 194 213 197 185 190 194 192 202 214 219 221 220 236 225 216\n",
            "  199 206 186 181 177 172 181 205 206 115]\n",
            " [  0 122 219 193 179 171 183 196 204 210 213 207 211 210 200 196 194 191\n",
            "  195 191 198 192 176 156 167 177 210  92]\n",
            " [  0   0  74 189 212 191 175 172 175 181 185 188 189 188 193 198 204 209\n",
            "  210 210 211 188 188 194 192 216 170   0]\n",
            " [  2   0   0   0  66 200 222 237 239 242 246 243 244 221 220 193 191 179\n",
            "  182 182 181 176 166 168  99  58   0   0]\n",
            " [  0   0   0   0   0   0   0  40  61  44  72  41  35   0   0   0   0   0\n",
            "    0   0   0   0   0   0   0   0   0   0]\n",
            " [  0   0   0   0   0   0   0   0   0   0   0   0   0   0   0   0   0   0\n",
            "    0   0   0   0   0   0   0   0   0   0]\n",
            " [  0   0   0   0   0   0   0   0   0   0   0   0   0   0   0   0   0   0\n",
            "    0   0   0   0   0   0   0   0   0   0]]\n"
          ],
          "name": "stdout"
        }
      ]
    },
    {
      "cell_type": "code",
      "metadata": {
        "id": "RD3P0zB7Up-A",
        "colab_type": "code",
        "outputId": "77f0f836-907f-4464-a897-8782f821e11c",
        "colab": {
          "base_uri": "https://localhost:8080/",
          "height": 53
        }
      },
      "source": [
        "print(y_train[0])# fist sample label  ...first sample ko label 9 x.\n",
        "print(y_train.shape) # jati x_training x tyati nai y_training chinxa."
      ],
      "execution_count": 4,
      "outputs": [
        {
          "output_type": "stream",
          "text": [
            "9\n",
            "(60000,)\n"
          ],
          "name": "stdout"
        }
      ]
    },
    {
      "cell_type": "code",
      "metadata": {
        "id": "t_n2spt3VLj7",
        "colab_type": "code",
        "outputId": "c28e56ca-c337-43de-8414-1b248cdb18fa",
        "colab": {
          "base_uri": "https://localhost:8080/",
          "height": 53
        }
      },
      "source": [
        "values,idx=tf.unique(y_train) # total no of class (labels)\n",
        "print(values)\n",
        "print(len(values))"
      ],
      "execution_count": 88,
      "outputs": [
        {
          "output_type": "stream",
          "text": [
            "tf.Tensor([9 0 3 2 7 5 1 6 4 8], shape=(10,), dtype=uint8)\n",
            "10\n"
          ],
          "name": "stdout"
        }
      ]
    },
    {
      "cell_type": "code",
      "metadata": {
        "id": "Qm7pIaj4bNoX",
        "colab_type": "code",
        "colab": {
          "base_uri": "https://localhost:8080/",
          "height": 35
        },
        "outputId": "e4d54aa4-25f4-4c93-9ba8-5e4498c5c90d"
      },
      "source": [
        "print(x_test.shape) # 10000 ota x_test ko lagi pathako x\n"
      ],
      "execution_count": 89,
      "outputs": [
        {
          "output_type": "stream",
          "text": [
            "(10000, 784)\n"
          ],
          "name": "stdout"
        }
      ]
    },
    {
      "cell_type": "code",
      "metadata": {
        "id": "uX8OLIYcdfyU",
        "colab_type": "code",
        "colab": {
          "base_uri": "https://localhost:8080/",
          "height": 53
        },
        "outputId": "d1650669-a0e6-46f6-ad8f-be256d1e37d7"
      },
      "source": [
        "print(y_test)\n",
        "print(y_test.shape) # jati ota x_test  tyati ota nai  y_test hunuparyo ni ta"
      ],
      "execution_count": 105,
      "outputs": [
        {
          "output_type": "stream",
          "text": [
            "[9 2 1 ... 8 1 5]\n",
            "(10000,)\n"
          ],
          "name": "stdout"
        }
      ]
    },
    {
      "cell_type": "markdown",
      "metadata": {
        "id": "y6ISYp7hefl0",
        "colab_type": "text"
      },
      "source": [
        "# B.split training dataset into data for trainning and validation \n",
        "*(validation ma split garnu nessecary haina tara confusion matrix analysis garna lai )\n",
        "\n",
        "*sklearn ma :: train_test_split api  use garnixa dataset lai split garna."
      ]
    },
    {
      "cell_type": "code",
      "metadata": {
        "id": "0usE-p3jWQlq",
        "colab_type": "code",
        "colab": {}
      },
      "source": [
        "from sklearn import model_selection as  ms\n"
      ],
      "execution_count": 0,
      "outputs": []
    },
    {
      "cell_type": "code",
      "metadata": {
        "id": "P0-MZZpid68f",
        "colab_type": "code",
        "colab": {}
      },
      "source": [
        "x_trai,x_val,y_trai,y_val=ms.train_test_split(x_train,y_train,test_size=0.2,random_state=42)"
      ],
      "execution_count": 0,
      "outputs": []
    },
    {
      "cell_type": "code",
      "metadata": {
        "id": "4QzdMu9ZfsHb",
        "colab_type": "code",
        "outputId": "0fa15aac-67cb-4d9e-8a87-4102c20c7572",
        "colab": {
          "base_uri": "https://localhost:8080/",
          "height": 53
        }
      },
      "source": [
        "print(x_trai.shape)\n",
        "print(x_val.shape)"
      ],
      "execution_count": 19,
      "outputs": [
        {
          "output_type": "stream",
          "text": [
            "(48000, 28, 28)\n",
            "(12000, 28, 28)\n"
          ],
          "name": "stdout"
        }
      ]
    },
    {
      "cell_type": "code",
      "metadata": {
        "id": "SQLCIvkQgkh1",
        "colab_type": "code",
        "outputId": "329f38ad-1ffc-49df-e850-a3a5746f635c",
        "colab": {
          "base_uri": "https://localhost:8080/",
          "height": 35
        }
      },
      "source": [
        "print(y_trai.shape)"
      ],
      "execution_count": 20,
      "outputs": [
        {
          "output_type": "stream",
          "text": [
            "(48000,)\n"
          ],
          "name": "stdout"
        }
      ]
    },
    {
      "cell_type": "code",
      "metadata": {
        "id": "nJb97b7uhJ0u",
        "colab_type": "code",
        "colab": {}
      },
      "source": [
        "item_list=['T-shirt/top','Trouser','Pullover','Dress','Coat','Sandle','Shirt','Sneaker','Bag','Ankle boot']"
      ],
      "execution_count": 0,
      "outputs": []
    },
    {
      "cell_type": "code",
      "metadata": {
        "id": "iE2ev2k5mhtM",
        "colab_type": "code",
        "outputId": "ea38eee4-b49f-4548-eac1-28e529cc4d2a",
        "colab": {
          "base_uri": "https://localhost:8080/",
          "height": 589
        }
      },
      "source": [
        "plt.figure(figsize=(10,10))\n",
        "for i in range(25):  # 25 ota kura plt garna lai\n",
        "  plt.subplot(5,5,i+1)\n",
        "  plt.xticks([])\n",
        "  plt.yticks([])\n",
        "  plt.imshow(x_trai[i],cmap=plt.cm.binary) # train image show garna lai \n",
        "  plt.xlabel(item_list[y_trai[i]]) # train image ko corrosponding label print garna lai\n",
        "plt.show() # plt    sanga assign vayako sabai kura sangai plot garna lai."
      ],
      "execution_count": 22,
      "outputs": [
        {
          "output_type": "display_data",
          "data": {
            "image/png": "[encoded data removed]",
            "text/plain": [
              "<Figure size 720x720 with 25 Axes>"
            ]
          },
          "metadata": {
            "tags": []
          }
        }
      ]
    },
    {
      "cell_type": "markdown",
      "metadata": {
        "id": "ujfDRsARqqkk",
        "colab_type": "text"
      },
      "source": [
        "# Create neural network"
      ]
    },
    {
      "cell_type": "code",
      "metadata": {
        "id": "sgkshgVxndcC",
        "colab_type": "code",
        "colab": {}
      },
      "source": [
        "input_size=28*28 #784  # input image jati size ko x tyati size ko nai input flatten banauni.\n",
        "output_size=10   # label jati ota x tyati ota output size banauni.\n",
        "hidden_1_shape=128 # no of neuron\n",
        "hidden_2_shape=64 # second hidden layer no of neuron is 64\n",
        "hidden_3_shape=32 # third hidden layer no of neuron is 32"
      ],
      "execution_count": 0,
      "outputs": []
    },
    {
      "cell_type": "code",
      "metadata": {
        "id": "pOcTqQsppfug",
        "colab_type": "code",
        "colab": {}
      },
      "source": [
        "# \n",
        "weights={\n",
        "    'hidden_1': tf.Variable(tf.random.truncated_normal([input_size,hidden_1_shape]),trainable=True),\n",
        "    'hidden_2': tf.Variable(tf.random.truncated_normal([hidden_1_shape,hidden_2_shape]),trainable=True),\n",
        "    'hidden_3': tf.Variable(tf.random.truncated_normal([hidden_2_shape,hidden_3_shape]),trainable=True),\n",
        "    'output':tf.Variable(tf.random.truncated_normal([hidden_3_shape,output_size]),trainable=True),\n",
        "    'hidden_1_bias': tf.Variable(tf.random.truncated_normal([hidden_1_shape]),trainable=True),\n",
        "    'hidden_2_bias': tf.Variable(tf.random.truncated_normal([hidden_2_shape]),trainable=True),\n",
        "    'hidden_3_bias': tf.Variable(tf.random.truncated_normal([hidden_3_shape]),trainable=True),\n",
        "    'output_bias':tf.Variable(tf.random.truncated_normal([output_size]),trainable=True)\n",
        "    }"
      ],
      "execution_count": 0,
      "outputs": []
    },
    {
      "cell_type": "markdown",
      "metadata": {
        "id": "1nfE7TIUxtNh",
        "colab_type": "text"
      },
      "source": [
        "# reshape \n",
        " reshape (sequence,(row kati ota banauni tyo,column kati ota banauni tyo))\n",
        "\n",
        " * note : row =-1 vaya no of sample sabai lai column=... column ... ma convert gardenxa. \n",
        "\n",
        "*  row=-1 means sabai row.\n",
        "* column=-1 means sabai column\n"
      ]
    },
    {
      "cell_type": "code",
      "metadata": {
        "id": "fFk81D13pjFJ",
        "colab_type": "code",
        "outputId": "e3b36f6e-b3bf-4579-b113-9514648652af",
        "colab": {
          "base_uri": "https://localhost:8080/",
          "height": 161
        }
      },
      "source": [
        "# reshape (sequence,(row kati ota banauni tyo,column kati ota banauni tyo))\n",
        "x_trai=tf.reshape(x_trai,(-1,784)) #(48000=-1(sabai sample haru),784)\n",
        "x_val=tf.reshape(x_val,(-1,784))\n",
        "x_test=tf.reshape(x_test,(-1,784))\n",
        "print(x_trai)"
      ],
      "execution_count": 25,
      "outputs": [
        {
          "output_type": "stream",
          "text": [
            "tf.Tensor(\n",
            "[[0 0 0 ... 0 0 0]\n",
            " [0 0 0 ... 0 0 0]\n",
            " [0 0 0 ... 0 0 0]\n",
            " ...\n",
            " [0 0 0 ... 0 0 0]\n",
            " [0 0 0 ... 0 0 0]\n",
            " [0 0 0 ... 0 0 0]], shape=(48000, 784), dtype=uint8)\n"
          ],
          "name": "stdout"
        }
      ]
    },
    {
      "cell_type": "markdown",
      "metadata": {
        "id": "nsRKcdl9zz_c",
        "colab_type": "text"
      },
      "source": [
        "# create batche\n",
        "* from_tensor_slice((x,y).batch(batch_size) "
      ]
    },
    {
      "cell_type": "code",
      "metadata": {
        "id": "RACKWl6_vKnV",
        "colab_type": "code",
        "colab": {}
      },
      "source": [
        "def create_batch(x,y,batch_size):\n",
        "  x=tf.cast(x,tf.float32)\n",
        "  data=tf.data.Dataset.from_tensor_slices((x,y)).batch(batch_size)\n",
        "  return data"
      ],
      "execution_count": 0,
      "outputs": []
    },
    {
      "cell_type": "markdown",
      "metadata": {
        "id": "_m3yKqZX0ksv",
        "colab_type": "text"
      },
      "source": [
        "# Train epoch by epoch\n",
        "**1.activation function::** depend which activation function is use.\n",
        "\n",
        "* NOTE:: tensorflow ma herni kun activation function use garni ho vanyara\n",
        "* Note::tf.nn... package ma xan activation function.\n",
        "eg::tf.nn.relu,tf.nn.\n",
        "\n",
        "**2.optimizer::**kun optimizer use garni tyo ni tha pauni.\n",
        "* NOTE::tensorflow ma herni kun optimizer  use garna milxa vanyara.\n",
        "eg::tf.optimizer.name_of_optimizer\n",
        "\n"
      ]
    },
    {
      "cell_type": "code",
      "metadata": {
        "id": "3-o5W6LsztoN",
        "colab_type": "code",
        "colab": {}
      },
      "source": [
        "def train_epoch_by_epoch(data):\n",
        "  for i in data:\n",
        "    with tf.GradientTape() as tape:\n",
        "      fc_1=tf.sigmoid(tf.add(tf.matmul(i[0],weights['hidden_1']),weights['hidden_1_bias']))\n",
        "      fc_2=tf.sigmoid(tf.add(tf.matmul(fc_1,weights['hidden_2']),weights['hidden_2_bias']))\n",
        "      fc_3=tf.sigmoid(tf.add(tf.matmul(fc_2,weights['hidden_3']),weights['hidden_3_bias']))\n",
        "      output_layer=tf.add(tf.matmul(fc_3,weights['output']),weights['output_bias'])\n",
        "      label=tf.one_hot(i[1],10)\n",
        "      cost=loss(label,output_layer)\n",
        "    grads=tape.gradient(cost,trainable_weights)\n",
        "    optimizer.apply_gradients(zip(grads,trainable_weights))\n",
        "  return True\n"
      ],
      "execution_count": 0,
      "outputs": []
    },
    {
      "cell_type": "markdown",
      "metadata": {
        "id": "ZrdGz8g4-IKn",
        "colab_type": "text"
      },
      "source": [
        "# forward propagation to evaluate training and validation accuracy\n",
        "\n",
        "*NOTE: last predicted layer argmax use garni compulsory"
      ]
    },
    {
      "cell_type": "code",
      "metadata": {
        "id": "e2Wm1x9a6ggB",
        "colab_type": "code",
        "colab": {}
      },
      "source": [
        "def eval_epoch_by_epoch(data):\n",
        "  tot_cost=0\n",
        "  accuracy=0\n",
        "  iter=0\n",
        "  for i in data:\n",
        "    size=(i[0].shape)[0]\n",
        "    fc_1=tf.sigmoid(tf.add(tf.matmul(i[0],weights['hidden_1']),weights['hidden_1_bias']))\n",
        "    fc_2=tf.sigmoid(tf.add(tf.matmul(fc_1,weights['hidden_2']),weights['hidden_2_bias']))\n",
        "    fc_3=tf.sigmoid(tf.add(tf.matmul(fc_2,weights['hidden_3']),weights['hidden_3_bias']))\n",
        "    output_layer=tf.add(tf.matmul(fc_3,weights['output']),weights['output_bias'])\n",
        "    label=tf.one_hot(i[1],10)\n",
        "    cost=loss(label,output_layer)\n",
        "    tot_cost+=cost\n",
        "    predicted=tf.argmax(output_layer,axis=1)\n",
        "    label=tf.cast(i[1],tf.int64)\n",
        "    res=tf.equal(predicted,label)\n",
        "    mean_correct=tf.reduce_sum(tf.cast(res,tf.float32))/size\n",
        "    accuracy+=mean_correct\n",
        "    iter+=1\n",
        "  return (tot_cost,accuracy/iter) "
      ],
      "execution_count": 0,
      "outputs": []
    },
    {
      "cell_type": "markdown",
      "metadata": {
        "id": "BhXhxRBHT7QW",
        "colab_type": "text"
      },
      "source": [
        "# main benifit of tensorflow \n",
        "* **loss::** loss calculate gardenxa\n",
        "* **optimizer::** optimizer grade calculate gardenxa\n",
        " \n",
        "\n",
        "\n"
      ]
    },
    {
      "cell_type": "code",
      "metadata": {
        "id": "q_AqzoFQ_QYT",
        "colab_type": "code",
        "outputId": "85c7ef69-0b94-4cee-a312-84ff8207bc61",
        "colab": {
          "base_uri": "https://localhost:8080/",
          "height": 377
        }
      },
      "source": [
        "learning_rate =0.001\n",
        "epoch=200\n",
        "batch_size=128\n",
        "loss=tf.losses.CategoricalCrossentropy(from_logits=True)\n",
        "optimizer=tf.optimizers.Adam(learning_rate)\n",
        "trainable_weights=[]\n",
        "for i in weights:\n",
        "  trainable_weights.append(weights[i])\n",
        "for i in range(epoch):\n",
        "  train_data=create_batch(x_trai,y_trai,batch_size)\n",
        "  train_data=iter(train_data)\n",
        "  train_data=[next(train_data)]\n",
        "  train_epoch_by_epoch(train_data)\n",
        "  train_cost,train_acc=eval_epoch_by_epoch(train_data)\n",
        "  if(i%10==0):\n",
        "    print(f\"Epoch :({i}/{epoch}) Train_cost:{train_cost:.5f} train_accuracy:{train_acc:.3f}\")\n"
      ],
      "execution_count": 29,
      "outputs": [
        {
          "output_type": "stream",
          "text": [
            "Epoch :(0/200) Train_cost:4.25798 train_accuracy:0.141\n",
            "Epoch :(10/200) Train_cost:3.54978 train_accuracy:0.227\n",
            "Epoch :(20/200) Train_cost:3.10991 train_accuracy:0.258\n",
            "Epoch :(30/200) Train_cost:2.74316 train_accuracy:0.297\n",
            "Epoch :(40/200) Train_cost:2.42913 train_accuracy:0.305\n",
            "Epoch :(50/200) Train_cost:2.19079 train_accuracy:0.336\n",
            "Epoch :(60/200) Train_cost:1.98128 train_accuracy:0.375\n",
            "Epoch :(70/200) Train_cost:1.79116 train_accuracy:0.430\n",
            "Epoch :(80/200) Train_cost:1.62620 train_accuracy:0.539\n",
            "Epoch :(90/200) Train_cost:1.48798 train_accuracy:0.602\n",
            "Epoch :(100/200) Train_cost:1.36653 train_accuracy:0.633\n",
            "Epoch :(110/200) Train_cost:1.26006 train_accuracy:0.656\n",
            "Epoch :(120/200) Train_cost:1.16421 train_accuracy:0.688\n",
            "Epoch :(130/200) Train_cost:1.07756 train_accuracy:0.742\n",
            "Epoch :(140/200) Train_cost:0.99790 train_accuracy:0.766\n",
            "Epoch :(150/200) Train_cost:0.92411 train_accuracy:0.789\n",
            "Epoch :(160/200) Train_cost:0.85566 train_accuracy:0.820\n",
            "Epoch :(170/200) Train_cost:0.79204 train_accuracy:0.844\n",
            "Epoch :(180/200) Train_cost:0.73289 train_accuracy:0.867\n",
            "Epoch :(190/200) Train_cost:0.67807 train_accuracy:0.875\n"
          ],
          "name": "stdout"
        }
      ]
    },
    {
      "cell_type": "markdown",
      "metadata": {
        "id": "rybKbWHqN9NV",
        "colab_type": "text"
      },
      "source": [
        "# Using Keras "
      ]
    },
    {
      "cell_type": "code",
      "metadata": {
        "id": "4rzDvGydElNC",
        "colab_type": "code",
        "colab": {
          "base_uri": "https://localhost:8080/",
          "height": 35
        },
        "outputId": "a8b98866-e46f-402f-b5ad-ffc04c64d69f"
      },
      "source": [
        "print(x_trai.shape)"
      ],
      "execution_count": 30,
      "outputs": [
        {
          "output_type": "stream",
          "text": [
            "(48000, 784)\n"
          ],
          "name": "stdout"
        }
      ]
    },
    {
      "cell_type": "code",
      "metadata": {
        "id": "6Lni0jSNNgr2",
        "colab_type": "code",
        "colab": {}
      },
      "source": [
        "from tensorflow.keras.models import Sequential\n",
        "from tensorflow.keras.layers import Dense,Softmax"
      ],
      "execution_count": 0,
      "outputs": []
    },
    {
      "cell_type": "code",
      "metadata": {
        "id": "0HsPiTetOTuV",
        "colab_type": "code",
        "colab": {}
      },
      "source": [
        "input_size=784\n",
        "output_size=10\n",
        "hidden_1_shape=128\n",
        "hidden_2_shape=64\n",
        "hidden_3_shape=32"
      ],
      "execution_count": 0,
      "outputs": []
    },
    {
      "cell_type": "code",
      "metadata": {
        "id": "DEKkT9iUOwCp",
        "colab_type": "code",
        "colab": {}
      },
      "source": [
        "model=Sequential([Dense(hidden_1_shape,input_shape=(input_size,),activation='sigmoid'),\n",
        "                  Dense(hidden_2_shape,activation='sigmoid'),\n",
        "                  Dense(hidden_3_shape,activation='sigmoid'),\n",
        "                  Dense(output_size),\n",
        "                  Softmax()\n",
        "                  ])"
      ],
      "execution_count": 0,
      "outputs": []
    },
    {
      "cell_type": "code",
      "metadata": {
        "id": "WX0biHcZPfU2",
        "colab_type": "code",
        "colab": {}
      },
      "source": [
        "model.compile(optimizer='adam',\n",
        "              loss='sparse_categorical_crossentropy',\n",
        "              metrics=['accuracy'])"
      ],
      "execution_count": 0,
      "outputs": []
    },
    {
      "cell_type": "code",
      "metadata": {
        "id": "4f1cFUZ5ROqJ",
        "colab_type": "code",
        "colab": {
          "base_uri": "https://localhost:8080/",
          "height": 305
        },
        "outputId": "8e8ca522-7c91-4de2-f3fc-e560ca828740"
      },
      "source": [
        "model.summary()"
      ],
      "execution_count": 86,
      "outputs": [
        {
          "output_type": "stream",
          "text": [
            "Model: \"sequential_6\"\n",
            "_________________________________________________________________\n",
            "Layer (type)                 Output Shape              Param #   \n",
            "=================================================================\n",
            "dense_22 (Dense)             (None, 128)               100480    \n",
            "_________________________________________________________________\n",
            "dense_23 (Dense)             (None, 64)                8256      \n",
            "_________________________________________________________________\n",
            "dense_24 (Dense)             (None, 32)                2080      \n",
            "_________________________________________________________________\n",
            "dense_25 (Dense)             (None, 10)                330       \n",
            "=================================================================\n",
            "Total params: 111,146\n",
            "Trainable params: 111,146\n",
            "Non-trainable params: 0\n",
            "_________________________________________________________________\n"
          ],
          "name": "stdout"
        }
      ]
    },
    {
      "cell_type": "code",
      "metadata": {
        "id": "wO1rnvelRR4T",
        "colab_type": "code",
        "colab": {
          "base_uri": "https://localhost:8080/",
          "height": 1000
        },
        "outputId": "e70bae3f-f2f2-4728-9806-4a81cdf74704"
      },
      "source": [
        "model.fit(x_trai,y_trai,batch_size=128,validation_data=(x_val,y_val),epochs=50)"
      ],
      "execution_count": 87,
      "outputs": [
        {
          "output_type": "stream",
          "text": [
            "Train on 48000 samples, validate on 12000 samples\n",
            "Epoch 1/50\n",
            "48000/48000 [==============================] - 3s 72us/sample - loss: 1.4030 - accuracy: 0.5563 - val_loss: 0.9766 - val_accuracy: 0.6538\n",
            "Epoch 2/50\n",
            "48000/48000 [==============================] - 3s 67us/sample - loss: 0.8620 - accuracy: 0.6919 - val_loss: 0.7941 - val_accuracy: 0.6907\n",
            "Epoch 3/50\n",
            "48000/48000 [==============================] - 3s 64us/sample - loss: 0.7516 - accuracy: 0.7129 - val_loss: 0.7311 - val_accuracy: 0.7309\n",
            "Epoch 4/50\n",
            "48000/48000 [==============================] - 3s 65us/sample - loss: 0.7327 - accuracy: 0.7204 - val_loss: 0.7022 - val_accuracy: 0.7089\n",
            "Epoch 5/50\n",
            "48000/48000 [==============================] - 3s 64us/sample - loss: 0.7160 - accuracy: 0.7276 - val_loss: 0.7445 - val_accuracy: 0.6942\n",
            "Epoch 6/50\n",
            "48000/48000 [==============================] - 3s 63us/sample - loss: 0.7057 - accuracy: 0.7213 - val_loss: 0.7111 - val_accuracy: 0.7175\n",
            "Epoch 7/50\n",
            "48000/48000 [==============================] - 3s 63us/sample - loss: 0.6914 - accuracy: 0.7342 - val_loss: 0.7043 - val_accuracy: 0.7418\n",
            "Epoch 8/50\n",
            "48000/48000 [==============================] - 3s 65us/sample - loss: 0.6721 - accuracy: 0.7437 - val_loss: 0.6505 - val_accuracy: 0.7599\n",
            "Epoch 9/50\n",
            "48000/48000 [==============================] - 3s 64us/sample - loss: 0.6662 - accuracy: 0.7426 - val_loss: 0.6753 - val_accuracy: 0.7419\n",
            "Epoch 10/50\n",
            "48000/48000 [==============================] - 3s 63us/sample - loss: 0.6755 - accuracy: 0.7369 - val_loss: 0.7165 - val_accuracy: 0.7241\n",
            "Epoch 11/50\n",
            "48000/48000 [==============================] - 3s 64us/sample - loss: 0.6734 - accuracy: 0.7396 - val_loss: 0.6920 - val_accuracy: 0.7473\n",
            "Epoch 12/50\n",
            "48000/48000 [==============================] - 3s 53us/sample - loss: 0.6743 - accuracy: 0.7418 - val_loss: 0.6774 - val_accuracy: 0.7336\n",
            "Epoch 13/50\n",
            "48000/48000 [==============================] - 3s 65us/sample - loss: 0.6977 - accuracy: 0.7246 - val_loss: 0.6634 - val_accuracy: 0.7366\n",
            "Epoch 14/50\n",
            "48000/48000 [==============================] - 3s 58us/sample - loss: 0.6323 - accuracy: 0.7571 - val_loss: 0.6286 - val_accuracy: 0.7750\n",
            "Epoch 15/50\n",
            "48000/48000 [==============================] - 3s 59us/sample - loss: 0.6141 - accuracy: 0.7678 - val_loss: 0.6098 - val_accuracy: 0.7644\n",
            "Epoch 16/50\n",
            "48000/48000 [==============================] - 3s 57us/sample - loss: 0.6064 - accuracy: 0.7705 - val_loss: 0.6095 - val_accuracy: 0.7685\n",
            "Epoch 17/50\n",
            "48000/48000 [==============================] - 3s 60us/sample - loss: 0.5977 - accuracy: 0.7742 - val_loss: 0.6027 - val_accuracy: 0.7811\n",
            "Epoch 18/50\n",
            "48000/48000 [==============================] - 3s 62us/sample - loss: 0.5829 - accuracy: 0.7843 - val_loss: 0.5815 - val_accuracy: 0.7896\n",
            "Epoch 19/50\n",
            "48000/48000 [==============================] - 3s 59us/sample - loss: 0.5915 - accuracy: 0.7812 - val_loss: 0.5911 - val_accuracy: 0.7770\n",
            "Epoch 20/50\n",
            "48000/48000 [==============================] - 3s 54us/sample - loss: 0.5998 - accuracy: 0.7682 - val_loss: 0.5811 - val_accuracy: 0.7724\n",
            "Epoch 21/50\n",
            "48000/48000 [==============================] - 3s 62us/sample - loss: 0.5916 - accuracy: 0.7772 - val_loss: 0.6089 - val_accuracy: 0.7716\n",
            "Epoch 22/50\n",
            "48000/48000 [==============================] - 3s 65us/sample - loss: 0.5973 - accuracy: 0.7740 - val_loss: 0.5948 - val_accuracy: 0.7764\n",
            "Epoch 23/50\n",
            "48000/48000 [==============================] - 3s 62us/sample - loss: 0.5867 - accuracy: 0.7792 - val_loss: 0.6014 - val_accuracy: 0.7684\n",
            "Epoch 24/50\n",
            "48000/48000 [==============================] - 3s 59us/sample - loss: 0.5940 - accuracy: 0.7735 - val_loss: 0.5934 - val_accuracy: 0.7828\n",
            "Epoch 25/50\n",
            "48000/48000 [==============================] - 3s 57us/sample - loss: 0.5760 - accuracy: 0.7831 - val_loss: 0.5831 - val_accuracy: 0.7834\n",
            "Epoch 26/50\n",
            "48000/48000 [==============================] - 3s 59us/sample - loss: 0.5731 - accuracy: 0.7819 - val_loss: 0.5933 - val_accuracy: 0.7739\n",
            "Epoch 27/50\n",
            "48000/48000 [==============================] - 3s 58us/sample - loss: 0.5731 - accuracy: 0.7787 - val_loss: 0.6128 - val_accuracy: 0.7724\n",
            "Epoch 28/50\n",
            "48000/48000 [==============================] - 3s 58us/sample - loss: 0.5703 - accuracy: 0.7867 - val_loss: 0.5824 - val_accuracy: 0.7800\n",
            "Epoch 29/50\n",
            "48000/48000 [==============================] - 3s 58us/sample - loss: 0.5577 - accuracy: 0.7883 - val_loss: 0.5644 - val_accuracy: 0.7832\n",
            "Epoch 30/50\n",
            "48000/48000 [==============================] - 3s 62us/sample - loss: 0.5464 - accuracy: 0.7976 - val_loss: 0.5683 - val_accuracy: 0.7844\n",
            "Epoch 31/50\n",
            "48000/48000 [==============================] - 3s 60us/sample - loss: 0.5468 - accuracy: 0.7948 - val_loss: 0.5751 - val_accuracy: 0.7855\n",
            "Epoch 32/50\n",
            "48000/48000 [==============================] - 3s 55us/sample - loss: 0.5575 - accuracy: 0.7907 - val_loss: 0.5647 - val_accuracy: 0.7831\n",
            "Epoch 33/50\n",
            "48000/48000 [==============================] - 3s 53us/sample - loss: 0.5571 - accuracy: 0.7891 - val_loss: 0.5612 - val_accuracy: 0.7840\n",
            "Epoch 34/50\n",
            "48000/48000 [==============================] - 2s 46us/sample - loss: 0.5542 - accuracy: 0.7869 - val_loss: 0.5777 - val_accuracy: 0.7712\n",
            "Epoch 35/50\n",
            "48000/48000 [==============================] - 2s 47us/sample - loss: 0.5473 - accuracy: 0.7968 - val_loss: 0.5562 - val_accuracy: 0.7903\n",
            "Epoch 36/50\n",
            "48000/48000 [==============================] - 3s 62us/sample - loss: 0.5477 - accuracy: 0.7949 - val_loss: 0.5980 - val_accuracy: 0.7582\n",
            "Epoch 37/50\n",
            "48000/48000 [==============================] - 3s 62us/sample - loss: 0.5545 - accuracy: 0.7896 - val_loss: 0.5540 - val_accuracy: 0.7924\n",
            "Epoch 38/50\n",
            "48000/48000 [==============================] - 3s 65us/sample - loss: 0.5641 - accuracy: 0.7891 - val_loss: 0.5804 - val_accuracy: 0.7850\n",
            "Epoch 39/50\n",
            "48000/48000 [==============================] - 3s 55us/sample - loss: 0.5728 - accuracy: 0.7815 - val_loss: 0.5894 - val_accuracy: 0.7686\n",
            "Epoch 40/50\n",
            "48000/48000 [==============================] - 3s 56us/sample - loss: 0.5634 - accuracy: 0.7840 - val_loss: 0.5667 - val_accuracy: 0.7881\n",
            "Epoch 41/50\n",
            "48000/48000 [==============================] - 3s 55us/sample - loss: 0.5511 - accuracy: 0.7988 - val_loss: 0.5652 - val_accuracy: 0.7981\n",
            "Epoch 42/50\n",
            "48000/48000 [==============================] - 2s 49us/sample - loss: 0.5573 - accuracy: 0.7946 - val_loss: 0.5887 - val_accuracy: 0.7679\n",
            "Epoch 43/50\n",
            "48000/48000 [==============================] - 2s 43us/sample - loss: 0.5602 - accuracy: 0.7840 - val_loss: 0.5717 - val_accuracy: 0.7846\n",
            "Epoch 44/50\n",
            "48000/48000 [==============================] - 3s 66us/sample - loss: 0.5381 - accuracy: 0.8000 - val_loss: 0.5390 - val_accuracy: 0.8017\n",
            "Epoch 45/50\n",
            "48000/48000 [==============================] - 3s 62us/sample - loss: 0.5441 - accuracy: 0.8055 - val_loss: 0.5487 - val_accuracy: 0.8052\n",
            "Epoch 46/50\n",
            "48000/48000 [==============================] - 3s 55us/sample - loss: 0.5343 - accuracy: 0.8072 - val_loss: 0.5655 - val_accuracy: 0.7943\n",
            "Epoch 47/50\n",
            "48000/48000 [==============================] - 2s 51us/sample - loss: 0.5331 - accuracy: 0.8078 - val_loss: 0.5540 - val_accuracy: 0.8021\n",
            "Epoch 48/50\n",
            "48000/48000 [==============================] - 2s 51us/sample - loss: 0.5365 - accuracy: 0.8016 - val_loss: 0.5420 - val_accuracy: 0.7966\n",
            "Epoch 49/50\n",
            "48000/48000 [==============================] - 2s 50us/sample - loss: 0.5607 - accuracy: 0.7890 - val_loss: 0.5642 - val_accuracy: 0.7902\n",
            "Epoch 50/50\n",
            "48000/48000 [==============================] - 2s 46us/sample - loss: 0.5371 - accuracy: 0.7974 - val_loss: 0.5444 - val_accuracy: 0.7992\n"
          ],
          "name": "stdout"
        },
        {
          "output_type": "execute_result",
          "data": {
            "text/plain": [
              "<tensorflow.python.keras.callbacks.History at 0x7f51acfb6470>"
            ]
          },
          "metadata": {
            "tags": []
          },
          "execution_count": 87
        }
      ]
    },
    {
      "cell_type": "code",
      "metadata": {
        "id": "T0LUaOtQRo_G",
        "colab_type": "code",
        "colab": {
          "base_uri": "https://localhost:8080/",
          "height": 35
        },
        "outputId": "a404f632-0672-414b-e55f-931ee8f61b3a"
      },
      "source": [
        "loss,accuracy=model.evaluate(x=x_test,y=y_test,batch_size=128,verbose=2)"
      ],
      "execution_count": 90,
      "outputs": [
        {
          "output_type": "stream",
          "text": [
            "10000/1 - 0s - loss: 0.4734 - accuracy: 0.7947\n"
          ],
          "name": "stdout"
        }
      ]
    },
    {
      "cell_type": "code",
      "metadata": {
        "id": "6iFPmeKWSyy9",
        "colab_type": "code",
        "colab": {
          "base_uri": "https://localhost:8080/",
          "height": 35
        },
        "outputId": "b6283f85-1d4b-4d0d-cfba-086b97f8cd80"
      },
      "source": [
        "accuracy"
      ],
      "execution_count": 91,
      "outputs": [
        {
          "output_type": "execute_result",
          "data": {
            "text/plain": [
              "0.7947"
            ]
          },
          "metadata": {
            "tags": []
          },
          "execution_count": 91
        }
      ]
    },
    {
      "cell_type": "code",
      "metadata": {
        "id": "0Vj3_-BqTB79",
        "colab_type": "code",
        "colab": {
          "base_uri": "https://localhost:8080/",
          "height": 305
        },
        "outputId": "83c00d51-c504-4813-b609-6b126830ceb5"
      },
      "source": [
        "prediction=model.predict(x_test)\n",
        "print(x_test.shape)\n",
        "print(y_test.shape)\n",
        "print(y_test)\n",
        "\n",
        "print(prediction)"
      ],
      "execution_count": 92,
      "outputs": [
        {
          "output_type": "stream",
          "text": [
            "(10000, 784)\n",
            "(10000,)\n",
            "[9 2 1 ... 8 1 5]\n",
            "[[3.1989015e-04 2.9349323e-05 2.8271546e-05 ... 6.4133041e-02\n",
            "  8.6650774e-03 2.0004131e-01]\n",
            " [3.4950975e-02 3.3224807e-03 7.8575909e-01 ... 1.6222391e-08\n",
            "  1.1489131e-02 6.5444394e-05]\n",
            " [2.6805286e-04 9.9878174e-01 3.8788603e-05 ... 2.8978434e-07\n",
            "  7.3357160e-07 9.5511632e-06]\n",
            " ...\n",
            " [2.3767869e-01 3.0603947e-04 9.1873864e-03 ... 2.2475355e-05\n",
            "  6.9326097e-01 1.1996697e-04]\n",
            " [3.1790291e-03 9.5663011e-01 1.7703920e-04 ... 1.0564272e-05\n",
            "  3.4926008e-05 8.5780790e-05]\n",
            " [1.9238953e-04 3.4837223e-05 4.1923026e-06 ... 1.6696258e-01\n",
            "  1.7976100e-02 1.1222121e-02]]\n"
          ],
          "name": "stdout"
        }
      ]
    },
    {
      "cell_type": "code",
      "metadata": {
        "id": "OUZSlJAlTNJm",
        "colab_type": "code",
        "colab": {
          "base_uri": "https://localhost:8080/",
          "height": 35
        },
        "outputId": "9ba11cde-3d84-4ef5-da90-4e5c9c4bbaff"
      },
      "source": [
        "prediction.shape"
      ],
      "execution_count": 114,
      "outputs": [
        {
          "output_type": "execute_result",
          "data": {
            "text/plain": [
              "(10000, 10)"
            ]
          },
          "metadata": {
            "tags": []
          },
          "execution_count": 114
        }
      ]
    },
    {
      "cell_type": "code",
      "metadata": {
        "id": "nz2cJwH7TQ5v",
        "colab_type": "code",
        "colab": {}
      },
      "source": [
        "predicted=tf.argmax(prediction,axis=1)"
      ],
      "execution_count": 0,
      "outputs": []
    },
    {
      "cell_type": "code",
      "metadata": {
        "id": "jIkZodFkTdVZ",
        "colab_type": "code",
        "colab": {
          "base_uri": "https://localhost:8080/",
          "height": 35
        },
        "outputId": "32de76e1-f6e2-4eac-f785-fc9106a12fd3"
      },
      "source": [
        "predicted.shape"
      ],
      "execution_count": 101,
      "outputs": [
        {
          "output_type": "execute_result",
          "data": {
            "text/plain": [
              "TensorShape([10000])"
            ]
          },
          "metadata": {
            "tags": []
          },
          "execution_count": 101
        }
      ]
    },
    {
      "cell_type": "code",
      "metadata": {
        "id": "k5na_qwtTgxa",
        "colab_type": "code",
        "colab": {
          "base_uri": "https://localhost:8080/",
          "height": 55
        },
        "outputId": "8d1577d9-7bd8-45e2-b6e6-56ad3d0587d4"
      },
      "source": [
        "data={'actual_label':y_test,'predicted label':predicted}\n",
        "print(data)"
      ],
      "execution_count": 118,
      "outputs": [
        {
          "output_type": "stream",
          "text": [
            "{'actual_label': array([9, 2, 1, ..., 8, 1, 5], dtype=uint8), 'predicted label': <tf.Tensor: id=312851, shape=(10000,), dtype=int64, numpy=array([5, 2, 1, ..., 8, 1, 5])>}\n"
          ],
          "name": "stdout"
        }
      ]
    },
    {
      "cell_type": "code",
      "metadata": {
        "id": "RC2rpo0ufCFp",
        "colab_type": "code",
        "colab": {}
      },
      "source": [
        "import pandas as pd \n"
      ],
      "execution_count": 0,
      "outputs": []
    }
  ]
}