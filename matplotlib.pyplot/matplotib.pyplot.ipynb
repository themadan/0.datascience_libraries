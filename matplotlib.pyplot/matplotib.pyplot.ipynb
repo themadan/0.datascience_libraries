{
  "nbformat": 4,
  "nbformat_minor": 0,
  "metadata": {
    "colab": {
      "name": "Untitled1.ipynb",
      "provenance": []
    },
    "kernelspec": {
      "name": "python3",
      "display_name": "Python 3"
    }
  },
  "cells": [
    {
      "cell_type": "markdown",
      "metadata": {
        "id": "NUEDf-O88ZuR",
        "colab_type": "text"
      },
      "source": [
        "# **MATPLOTLIB.PYPLOT**\n",
        "# 1.pyplot is mainly intended for interactive plots\n",
        "# 2.pylab combines pyplot with numpy into a single namespace.\n",
        "[matplotlib.pyplot](https://matplotlib.org/3.1.1/Matplotlib.pdf)"
      ]
    },
    {
      "cell_type": "code",
      "metadata": {
        "id": "XIYhjkqJheXz",
        "colab_type": "code",
        "colab": {}
      },
      "source": [
        "import matplotlib.pyplot as plt"
      ],
      "execution_count": 0,
      "outputs": []
    },
    {
      "cell_type": "code",
      "metadata": {
        "id": "5jisZ7xD812Q",
        "colab_type": "code",
        "colab": {}
      },
      "source": [
        ""
      ],
      "execution_count": 0,
      "outputs": []
    }
  ]
}