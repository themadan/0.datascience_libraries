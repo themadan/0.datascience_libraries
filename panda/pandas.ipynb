{
  "nbformat": 4,
  "nbformat_minor": 0,
  "metadata": {
    "colab": {
      "name": "Untitled0.ipynb",
      "provenance": []
    },
    "kernelspec": {
      "name": "python3",
      "display_name": "Python 3"
    }
  },
  "cells": [
    {
      "cell_type": "markdown",
      "metadata": {
        "id": "1TksYPaT7Tg-",
        "colab_type": "text"
      },
      "source": [
        "# PANDAS\n",
        "# 1.powerful Python data analysis toolkit.\n",
        "# 2.general familiarity with NumPy\n",
        "[pandas documentation](https://pandas.pydata.org/pandas-docs/stable/pandas.pdf)"
      ]
    },
    {
      "cell_type": "code",
      "metadata": {
        "id": "DuFlZlfMe6Vt",
        "colab_type": "code",
        "colab": {}
      },
      "source": [
        "import pandas as pd\n",
        "help(pd)\n",
        "print('helo iam from pandas2')"
      ],
      "execution_count": 0,
      "outputs": []
    },
    {
      "cell_type": "code",
      "metadata": {
        "id": "YUcBKhaffCz-",
        "colab_type": "code",
        "colab": {}
      },
      "source": [
        ""
      ],
      "execution_count": 0,
      "outputs": []
    }
  ]
}