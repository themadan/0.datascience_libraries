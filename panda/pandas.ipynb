{
  "nbformat": 4,
  "nbformat_minor": 0,
  "metadata": {
    "colab": {
      "name": "Untitled0.ipynb",
      "provenance": []
    },
    "kernelspec": {
      "name": "python3",
      "display_name": "Python 3"
    }
  },
  "cells": [
    {
      "cell_type": "markdown",
      "metadata": {
        "id": "1TksYPaT7Tg-",
        "colab_type": "text"
      },
      "source": [
        "# PANDAS\n",
        "# 1.powerful Python data analysis toolkit.\n",
        "# 2.general familiarity with NumPy\n",
        "[pandas documentation](https://pandas.pydata.org/pandas-docs/stable/pandas.pdf)"
      ]
    },
    {
      "cell_type": "code",
      "metadata": {
        "id": "DuFlZlfMe6Vt",
        "colab_type": "code",
        "colab": {}
      },
      "source": [
        "import numpy as np\n",
        "import pandas as pd\n"
      ],
      "execution_count": 0,
      "outputs": []
    },
    {
      "cell_type": "code",
      "metadata": {
        "id": "YUcBKhaffCz-",
        "colab_type": "code",
        "colab": {
          "base_uri": "https://localhost:8080/",
          "height": 125
        },
        "outputId": "1dfb882d-1701-470f-8e88-4a128524f78b"
      },
      "source": [
        "pd.Series([1,2,4,np.nan,8])"
      ],
      "execution_count": 6,
      "outputs": [
        {
          "output_type": "execute_result",
          "data": {
            "text/plain": [
              "0    1.0\n",
              "1    2.0\n",
              "2    4.0\n",
              "3    NaN\n",
              "4    8.0\n",
              "dtype: float64"
            ]
          },
          "metadata": {
            "tags": []
          },
          "execution_count": 6
        }
      ]
    },
    {
      "cell_type": "code",
      "metadata": {
        "id": "7G7fUXeQ-ZoL",
        "colab_type": "code",
        "colab": {
          "base_uri": "https://localhost:8080/",
          "height": 125
        },
        "outputId": "250ec73e-b548-4cd1-f1ec-d3d5cdeb6070"
      },
      "source": [
        "pd.Series(np.arange(5))"
      ],
      "execution_count": 8,
      "outputs": [
        {
          "output_type": "execute_result",
          "data": {
            "text/plain": [
              "0    0\n",
              "1    1\n",
              "2    2\n",
              "3    3\n",
              "4    4\n",
              "dtype: int64"
            ]
          },
          "metadata": {
            "tags": []
          },
          "execution_count": 8
        }
      ]
    },
    {
      "cell_type": "code",
      "metadata": {
        "id": "oPP5_zw9-q0M",
        "colab_type": "code",
        "colab": {}
      },
      "source": [
        "dates=pd.date_range('201011',periods=6)"
      ],
      "execution_count": 0,
      "outputs": []
    },
    {
      "cell_type": "code",
      "metadata": {
        "id": "SCKzv5UNAABO",
        "colab_type": "code",
        "colab": {
          "base_uri": "https://localhost:8080/",
          "height": 235
        },
        "outputId": "372eb612-aaf0-4ab2-e9f2-fa126d543380"
      },
      "source": [
        "df=pd.DataFrame(np.random.randn(6,4),index=dates,columns=list('ABCD'))\n",
        "df"
      ],
      "execution_count": 14,
      "outputs": [
        {
          "output_type": "execute_result",
          "data": {
            "text/html": [
              "<div>\n",
              "<style scoped>\n",
              "    .dataframe tbody tr th:only-of-type {\n",
              "        vertical-align: middle;\n",
              "    }\n",
              "\n",
              "    .dataframe tbody tr th {\n",
              "        vertical-align: top;\n",
              "    }\n",
              "\n",
              "    .dataframe thead th {\n",
              "        text-align: right;\n",
              "    }\n",
              "</style>\n",
              "<table border=\"1\" class=\"dataframe\">\n",
              "  <thead>\n",
              "    <tr style=\"text-align: right;\">\n",
              "      <th></th>\n",
              "      <th>A</th>\n",
              "      <th>B</th>\n",
              "      <th>C</th>\n",
              "      <th>D</th>\n",
              "    </tr>\n",
              "  </thead>\n",
              "  <tbody>\n",
              "    <tr>\n",
              "      <th>2011-10-20</th>\n",
              "      <td>-1.128364</td>\n",
              "      <td>1.304669</td>\n",
              "      <td>2.002059</td>\n",
              "      <td>0.718491</td>\n",
              "    </tr>\n",
              "    <tr>\n",
              "      <th>2011-10-21</th>\n",
              "      <td>-0.412047</td>\n",
              "      <td>0.205596</td>\n",
              "      <td>-0.325732</td>\n",
              "      <td>-0.275904</td>\n",
              "    </tr>\n",
              "    <tr>\n",
              "      <th>2011-10-22</th>\n",
              "      <td>0.327941</td>\n",
              "      <td>1.676911</td>\n",
              "      <td>0.304930</td>\n",
              "      <td>1.280443</td>\n",
              "    </tr>\n",
              "    <tr>\n",
              "      <th>2011-10-23</th>\n",
              "      <td>-0.182796</td>\n",
              "      <td>0.110328</td>\n",
              "      <td>0.783592</td>\n",
              "      <td>-0.124559</td>\n",
              "    </tr>\n",
              "    <tr>\n",
              "      <th>2011-10-24</th>\n",
              "      <td>0.661825</td>\n",
              "      <td>-0.739681</td>\n",
              "      <td>1.285093</td>\n",
              "      <td>1.798302</td>\n",
              "    </tr>\n",
              "    <tr>\n",
              "      <th>2011-10-25</th>\n",
              "      <td>-0.846905</td>\n",
              "      <td>0.043380</td>\n",
              "      <td>-0.475085</td>\n",
              "      <td>0.449867</td>\n",
              "    </tr>\n",
              "  </tbody>\n",
              "</table>\n",
              "</div>"
            ],
            "text/plain": [
              "                   A         B         C         D\n",
              "2011-10-20 -1.128364  1.304669  2.002059  0.718491\n",
              "2011-10-21 -0.412047  0.205596 -0.325732 -0.275904\n",
              "2011-10-22  0.327941  1.676911  0.304930  1.280443\n",
              "2011-10-23 -0.182796  0.110328  0.783592 -0.124559\n",
              "2011-10-24  0.661825 -0.739681  1.285093  1.798302\n",
              "2011-10-25 -0.846905  0.043380 -0.475085  0.449867"
            ]
          },
          "metadata": {
            "tags": []
          },
          "execution_count": 14
        }
      ]
    },
    {
      "cell_type": "code",
      "metadata": {
        "id": "6hhL_9QoA_gW",
        "colab_type": "code",
        "colab": {}
      },
      "source": [
        "df1=pd.DataFrame({'A':1,\n",
        "                  'B':pd.Timestamp('20761212'),\n",
        "                  'c':pd.Series(1,index=(range(4)),dtype='float32'),\n",
        "                  \n",
        "                  })"
      ],
      "execution_count": 0,
      "outputs": []
    }
  ]
}