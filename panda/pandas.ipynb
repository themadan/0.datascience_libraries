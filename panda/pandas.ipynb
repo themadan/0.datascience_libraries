{
  "nbformat": 4,
  "nbformat_minor": 0,
  "metadata": {
    "colab": {
      "name": "Untitled0.ipynb",
      "provenance": []
    },
    "kernelspec": {
      "name": "python3",
      "display_name": "Python 3"
    }
  },
  "cells": [
    {
      "cell_type": "markdown",
      "metadata": {
        "id": "1TksYPaT7Tg-",
        "colab_type": "text"
      },
      "source": [
        "# PANDAS\n",
        "# 1.powerful Python data analysis toolkit.\n",
        "# 2.general familiarity with NumPy\n",
        "[pandas documentation](https://pandas.pydata.org/pandas-docs/stable/pandas.pdf)"
      ]
    },
    {
      "cell_type": "code",
      "metadata": {
        "id": "DuFlZlfMe6Vt",
        "colab_type": "code",
        "colab": {}
      },
      "source": [
        "import numpy as np\n",
        "import pandas as pd\n"
      ],
      "execution_count": 0,
      "outputs": []
    },
    {
      "cell_type": "code",
      "metadata": {
        "id": "YUcBKhaffCz-",
        "colab_type": "code",
        "colab": {
          "base_uri": "https://localhost:8080/",
          "height": 125
        },
        "outputId": "1dfb882d-1701-470f-8e88-4a128524f78b"
      },
      "source": [
        "pd.Series([1,2,4,np.nan,8])"
      ],
      "execution_count": 6,
      "outputs": [
        {
          "output_type": "execute_result",
          "data": {
            "text/plain": [
              "0    1.0\n",
              "1    2.0\n",
              "2    4.0\n",
              "3    NaN\n",
              "4    8.0\n",
              "dtype: float64"
            ]
          },
          "metadata": {
            "tags": []
          },
          "execution_count": 6
        }
      ]
    },
    {
      "cell_type": "code",
      "metadata": {
        "id": "7G7fUXeQ-ZoL",
        "colab_type": "code",
        "colab": {
          "base_uri": "https://localhost:8080/",
          "height": 125
        },
        "outputId": "250ec73e-b548-4cd1-f1ec-d3d5cdeb6070"
      },
      "source": [
        "pd.Series(np.arange(5))"
      ],
      "execution_count": 8,
      "outputs": [
        {
          "output_type": "execute_result",
          "data": {
            "text/plain": [
              "0    0\n",
              "1    1\n",
              "2    2\n",
              "3    3\n",
              "4    4\n",
              "dtype: int64"
            ]
          },
          "metadata": {
            "tags": []
          },
          "execution_count": 8
        }
      ]
    },
    {
      "cell_type": "code",
      "metadata": {
        "id": "oPP5_zw9-q0M",
        "colab_type": "code",
        "colab": {
          "base_uri": "https://localhost:8080/",
          "height": 71
        },
        "outputId": "5af7fb70-969c-4d80-db13-c631f447d6f0"
      },
      "source": [
        "dates=pd.date_range('201011',periods=6)\n",
        "dates"
      ],
      "execution_count": 16,
      "outputs": [
        {
          "output_type": "execute_result",
          "data": {
            "text/plain": [
              "DatetimeIndex(['2011-10-20', '2011-10-21', '2011-10-22', '2011-10-23',\n",
              "               '2011-10-24', '2011-10-25'],\n",
              "              dtype='datetime64[ns]', freq='D')"
            ]
          },
          "metadata": {
            "tags": []
          },
          "execution_count": 16
        }
      ]
    },
    {
      "cell_type": "code",
      "metadata": {
        "id": "SCKzv5UNAABO",
        "colab_type": "code",
        "colab": {
          "base_uri": "https://localhost:8080/",
          "height": 235
        },
        "outputId": "e65fb146-fbc7-475c-e3cf-7247adb3e83b"
      },
      "source": [
        "df=pd.DataFrame(np.random.randn(6,4),index=dates,columns=list('ABCD'))\n",
        "df"
      ],
      "execution_count": 17,
      "outputs": [
        {
          "output_type": "execute_result",
          "data": {
            "text/html": [
              "<div>\n",
              "<style scoped>\n",
              "    .dataframe tbody tr th:only-of-type {\n",
              "        vertical-align: middle;\n",
              "    }\n",
              "\n",
              "    .dataframe tbody tr th {\n",
              "        vertical-align: top;\n",
              "    }\n",
              "\n",
              "    .dataframe thead th {\n",
              "        text-align: right;\n",
              "    }\n",
              "</style>\n",
              "<table border=\"1\" class=\"dataframe\">\n",
              "  <thead>\n",
              "    <tr style=\"text-align: right;\">\n",
              "      <th></th>\n",
              "      <th>A</th>\n",
              "      <th>B</th>\n",
              "      <th>C</th>\n",
              "      <th>D</th>\n",
              "    </tr>\n",
              "  </thead>\n",
              "  <tbody>\n",
              "    <tr>\n",
              "      <th>2011-10-20</th>\n",
              "      <td>-0.519916</td>\n",
              "      <td>-0.134522</td>\n",
              "      <td>-0.882287</td>\n",
              "      <td>-2.328649</td>\n",
              "    </tr>\n",
              "    <tr>\n",
              "      <th>2011-10-21</th>\n",
              "      <td>-1.723655</td>\n",
              "      <td>1.202619</td>\n",
              "      <td>-1.021460</td>\n",
              "      <td>0.050348</td>\n",
              "    </tr>\n",
              "    <tr>\n",
              "      <th>2011-10-22</th>\n",
              "      <td>1.498543</td>\n",
              "      <td>-0.228589</td>\n",
              "      <td>0.820977</td>\n",
              "      <td>-0.364294</td>\n",
              "    </tr>\n",
              "    <tr>\n",
              "      <th>2011-10-23</th>\n",
              "      <td>0.139569</td>\n",
              "      <td>0.316437</td>\n",
              "      <td>1.128720</td>\n",
              "      <td>-0.364334</td>\n",
              "    </tr>\n",
              "    <tr>\n",
              "      <th>2011-10-24</th>\n",
              "      <td>-2.459922</td>\n",
              "      <td>-1.199507</td>\n",
              "      <td>-0.124364</td>\n",
              "      <td>0.166182</td>\n",
              "    </tr>\n",
              "    <tr>\n",
              "      <th>2011-10-25</th>\n",
              "      <td>0.370398</td>\n",
              "      <td>0.140727</td>\n",
              "      <td>1.024460</td>\n",
              "      <td>1.642690</td>\n",
              "    </tr>\n",
              "  </tbody>\n",
              "</table>\n",
              "</div>"
            ],
            "text/plain": [
              "                   A         B         C         D\n",
              "2011-10-20 -0.519916 -0.134522 -0.882287 -2.328649\n",
              "2011-10-21 -1.723655  1.202619 -1.021460  0.050348\n",
              "2011-10-22  1.498543 -0.228589  0.820977 -0.364294\n",
              "2011-10-23  0.139569  0.316437  1.128720 -0.364334\n",
              "2011-10-24 -2.459922 -1.199507 -0.124364  0.166182\n",
              "2011-10-25  0.370398  0.140727  1.024460  1.642690"
            ]
          },
          "metadata": {
            "tags": []
          },
          "execution_count": 17
        }
      ]
    },
    {
      "cell_type": "code",
      "metadata": {
        "id": "6hhL_9QoA_gW",
        "colab_type": "code",
        "colab": {
          "base_uri": "https://localhost:8080/",
          "height": 173
        },
        "outputId": "fcd3df57-96c5-493d-f0f7-1fe37683a2fb"
      },
      "source": [
        "df1=pd.DataFrame({'A':1,\n",
        "                  'B':pd.Timestamp('20761212'),\n",
        "                  'C':pd.Series(1,index=(range(4)),dtype='float32'),\n",
        "                  'D':np.array([3]*4,dtype='int32'),\n",
        "                  'E':pd.Categorical(['test','train','test','train']),\n",
        "                  'F':'foo'\n",
        "                   })\n",
        "df1"
      ],
      "execution_count": 18,
      "outputs": [
        {
          "output_type": "execute_result",
          "data": {
            "text/html": [
              "<div>\n",
              "<style scoped>\n",
              "    .dataframe tbody tr th:only-of-type {\n",
              "        vertical-align: middle;\n",
              "    }\n",
              "\n",
              "    .dataframe tbody tr th {\n",
              "        vertical-align: top;\n",
              "    }\n",
              "\n",
              "    .dataframe thead th {\n",
              "        text-align: right;\n",
              "    }\n",
              "</style>\n",
              "<table border=\"1\" class=\"dataframe\">\n",
              "  <thead>\n",
              "    <tr style=\"text-align: right;\">\n",
              "      <th></th>\n",
              "      <th>A</th>\n",
              "      <th>B</th>\n",
              "      <th>C</th>\n",
              "      <th>D</th>\n",
              "      <th>E</th>\n",
              "      <th>F</th>\n",
              "    </tr>\n",
              "  </thead>\n",
              "  <tbody>\n",
              "    <tr>\n",
              "      <th>0</th>\n",
              "      <td>1</td>\n",
              "      <td>2076-12-12</td>\n",
              "      <td>1.0</td>\n",
              "      <td>3</td>\n",
              "      <td>test</td>\n",
              "      <td>foo</td>\n",
              "    </tr>\n",
              "    <tr>\n",
              "      <th>1</th>\n",
              "      <td>1</td>\n",
              "      <td>2076-12-12</td>\n",
              "      <td>1.0</td>\n",
              "      <td>3</td>\n",
              "      <td>train</td>\n",
              "      <td>foo</td>\n",
              "    </tr>\n",
              "    <tr>\n",
              "      <th>2</th>\n",
              "      <td>1</td>\n",
              "      <td>2076-12-12</td>\n",
              "      <td>1.0</td>\n",
              "      <td>3</td>\n",
              "      <td>test</td>\n",
              "      <td>foo</td>\n",
              "    </tr>\n",
              "    <tr>\n",
              "      <th>3</th>\n",
              "      <td>1</td>\n",
              "      <td>2076-12-12</td>\n",
              "      <td>1.0</td>\n",
              "      <td>3</td>\n",
              "      <td>train</td>\n",
              "      <td>foo</td>\n",
              "    </tr>\n",
              "  </tbody>\n",
              "</table>\n",
              "</div>"
            ],
            "text/plain": [
              "   A          B    C  D      E    F\n",
              "0  1 2076-12-12  1.0  3   test  foo\n",
              "1  1 2076-12-12  1.0  3  train  foo\n",
              "2  1 2076-12-12  1.0  3   test  foo\n",
              "3  1 2076-12-12  1.0  3  train  foo"
            ]
          },
          "metadata": {
            "tags": []
          },
          "execution_count": 18
        }
      ]
    },
    {
      "cell_type": "code",
      "metadata": {
        "id": "GT2Q1TuGHsfR",
        "colab_type": "code",
        "colab": {
          "base_uri": "https://localhost:8080/",
          "height": 143
        },
        "outputId": "0e62b49a-3d7f-4711-f5a3-2e58fd7491ec"
      },
      "source": [
        "df1.dtypes"
      ],
      "execution_count": 19,
      "outputs": [
        {
          "output_type": "execute_result",
          "data": {
            "text/plain": [
              "A             int64\n",
              "B    datetime64[ns]\n",
              "C           float32\n",
              "D             int32\n",
              "E          category\n",
              "F            object\n",
              "dtype: object"
            ]
          },
          "metadata": {
            "tags": []
          },
          "execution_count": 19
        }
      ]
    },
    {
      "cell_type": "code",
      "metadata": {
        "id": "FgTI64H-H5Sa",
        "colab_type": "code",
        "colab": {}
      },
      "source": [
        ""
      ],
      "execution_count": 0,
      "outputs": []
    }
  ]
}